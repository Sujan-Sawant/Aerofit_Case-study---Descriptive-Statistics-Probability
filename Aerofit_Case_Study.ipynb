{
  "nbformat": 4,
  "nbformat_minor": 0,
  "metadata": {
    "colab": {
      "provenance": [],
      "authorship_tag": "ABX9TyM1bD7/aLhTKdtt2aX6ATFi",
      "include_colab_link": true
    },
    "kernelspec": {
      "name": "python3",
      "display_name": "Python 3"
    },
    "language_info": {
      "name": "python"
    }
  },
  "cells": [
    {
      "cell_type": "markdown",
      "metadata": {
        "id": "view-in-github",
        "colab_type": "text"
      },
      "source": [
        "<a href=\"https://colab.research.google.com/github/Sujan-Sawant/Aerofit_Case-study---Descriptive-Statistics-Probability/blob/main/Aerofit_Case_Study.ipynb\" target=\"_parent\"><img src=\"https://colab.research.google.com/assets/colab-badge.svg\" alt=\"Open In Colab\"/></a>"
      ]
    },
    {
      "cell_type": "markdown",
      "source": [
        "# Business Case: Aerofit - Descriptive Statistics & Probability\n",
        "Aerofit is a leading brand in the field of fitness equipment. Aerofit provides a product range including machines such as treadmills, exercise bikes, gym equipment, and fitness accessories to cater to the needs of all categories of people."
      ],
      "metadata": {
        "id": "QzLZN1giEzRH"
      }
    },
    {
      "cell_type": "markdown",
      "source": [
        "# Business Problem\n",
        "\n",
        "The market research team at AeroFit wants to identify the characteristics of the target audience for each type of treadmill offered by the company, to provide a better recommendation of the treadmills to the new customers. The team decides to investigate whether there are differences across the product with respect to customer characteristics.\n",
        "\n",
        "1. Perform descriptive analytics to create a customer profile for each AeroFit treadmill product by developing appropriate tables and charts.\n",
        "2. For each AeroFit treadmill product, construct two-way contingency tables and compute all conditional and marginal probabilities along with their insights/impact on the business.\n",
        "Dataset\n",
        "\n",
        "The company collected the data on individuals who purchased a treadmill from the AeroFit stores during the prior three months. The dataset has the following features:\n",
        "\n",
        "- **Product Purchased**:\tKP281, KP481, or KP781\n",
        "- **Age**:\tIn years\n",
        "- **Gender**:\tMale/Female\n",
        "- **Education**:\tIn years\n",
        "- **MaritalStatus**:\tSingle or partnered\n",
        "- **Usage**:\tThe average number of times the customer plans to use the treadmill each week.\n",
        "- **Income**:\tAnnual income (in $)\n",
        "- **Fitness**:\tSelf-rated fitness on a 1-to-5 scale, where 1 is the poor shape and 5 is the excellent shape.\n",
        "- **Miles**:\tThe average number of miles the customer expects to walk/run each week"
      ],
      "metadata": {
        "id": "w_IiYOUUFGCn"
      }
    },
    {
      "cell_type": "code",
      "execution_count": null,
      "metadata": {
        "id": "m_Xb42CKvKpz"
      },
      "outputs": [],
      "source": [
        "import numpy as np\n",
        "import pandas as pd\n",
        "import matplotlib.pyplot as plt\n",
        "import seaborn as sns"
      ]
    },
    {
      "cell_type": "code",
      "source": [
        "# Downloding the data\n",
        "! gdown 1H5AzViEurpexPyuFMC76pD-nASvbHzdX"
      ],
      "metadata": {
        "colab": {
          "base_uri": "https://localhost:8080/"
        },
        "id": "RTMlOIwOVdYh",
        "outputId": "2dce1322-3a29-4bb7-a7b9-160a6a8485ac"
      },
      "execution_count": null,
      "outputs": [
        {
          "output_type": "stream",
          "name": "stdout",
          "text": [
            "Downloading...\n",
            "From: https://drive.google.com/uc?id=1H5AzViEurpexPyuFMC76pD-nASvbHzdX\n",
            "To: /content/aerofit_treadmill.csv\n",
            "\r  0% 0.00/7.28k [00:00<?, ?B/s]\r100% 7.28k/7.28k [00:00<00:00, 19.6MB/s]\n"
          ]
        }
      ]
    },
    {
      "cell_type": "code",
      "source": [
        "# Reading or Loading a CSV file into a pandas DataFrame.\n",
        "df = pd.read_csv(\"aerofit_treadmill.csv\")"
      ],
      "metadata": {
        "id": "2FhcoYnzvWFS"
      },
      "execution_count": null,
      "outputs": []
    },
    {
      "cell_type": "code",
      "source": [
        "# Viewing the first few rows of a DataFrame.\n",
        "df.head()"
      ],
      "metadata": {
        "colab": {
          "base_uri": "https://localhost:8080/",
          "height": 206
        },
        "id": "FevHJw-bvc_W",
        "outputId": "dae96537-9f0e-46d3-9d06-eed169d6bb23"
      },
      "execution_count": null,
      "outputs": [
        {
          "output_type": "execute_result",
          "data": {
            "text/plain": [
              "  Product  Age  Gender  Education MaritalStatus  Usage  Fitness  Income  Miles\n",
              "0   KP281   18    Male         14        Single      3        4   29562    112\n",
              "1   KP281   19    Male         15        Single      2        3   31836     75\n",
              "2   KP281   19  Female         14     Partnered      4        3   30699     66\n",
              "3   KP281   19    Male         12        Single      3        3   32973     85\n",
              "4   KP281   20    Male         13     Partnered      4        2   35247     47"
            ],
            "text/html": [
              "\n",
              "  <div id=\"df-262c318f-4206-42b6-8e89-1c678087e290\" class=\"colab-df-container\">\n",
              "    <div>\n",
              "<style scoped>\n",
              "    .dataframe tbody tr th:only-of-type {\n",
              "        vertical-align: middle;\n",
              "    }\n",
              "\n",
              "    .dataframe tbody tr th {\n",
              "        vertical-align: top;\n",
              "    }\n",
              "\n",
              "    .dataframe thead th {\n",
              "        text-align: right;\n",
              "    }\n",
              "</style>\n",
              "<table border=\"1\" class=\"dataframe\">\n",
              "  <thead>\n",
              "    <tr style=\"text-align: right;\">\n",
              "      <th></th>\n",
              "      <th>Product</th>\n",
              "      <th>Age</th>\n",
              "      <th>Gender</th>\n",
              "      <th>Education</th>\n",
              "      <th>MaritalStatus</th>\n",
              "      <th>Usage</th>\n",
              "      <th>Fitness</th>\n",
              "      <th>Income</th>\n",
              "      <th>Miles</th>\n",
              "    </tr>\n",
              "  </thead>\n",
              "  <tbody>\n",
              "    <tr>\n",
              "      <th>0</th>\n",
              "      <td>KP281</td>\n",
              "      <td>18</td>\n",
              "      <td>Male</td>\n",
              "      <td>14</td>\n",
              "      <td>Single</td>\n",
              "      <td>3</td>\n",
              "      <td>4</td>\n",
              "      <td>29562</td>\n",
              "      <td>112</td>\n",
              "    </tr>\n",
              "    <tr>\n",
              "      <th>1</th>\n",
              "      <td>KP281</td>\n",
              "      <td>19</td>\n",
              "      <td>Male</td>\n",
              "      <td>15</td>\n",
              "      <td>Single</td>\n",
              "      <td>2</td>\n",
              "      <td>3</td>\n",
              "      <td>31836</td>\n",
              "      <td>75</td>\n",
              "    </tr>\n",
              "    <tr>\n",
              "      <th>2</th>\n",
              "      <td>KP281</td>\n",
              "      <td>19</td>\n",
              "      <td>Female</td>\n",
              "      <td>14</td>\n",
              "      <td>Partnered</td>\n",
              "      <td>4</td>\n",
              "      <td>3</td>\n",
              "      <td>30699</td>\n",
              "      <td>66</td>\n",
              "    </tr>\n",
              "    <tr>\n",
              "      <th>3</th>\n",
              "      <td>KP281</td>\n",
              "      <td>19</td>\n",
              "      <td>Male</td>\n",
              "      <td>12</td>\n",
              "      <td>Single</td>\n",
              "      <td>3</td>\n",
              "      <td>3</td>\n",
              "      <td>32973</td>\n",
              "      <td>85</td>\n",
              "    </tr>\n",
              "    <tr>\n",
              "      <th>4</th>\n",
              "      <td>KP281</td>\n",
              "      <td>20</td>\n",
              "      <td>Male</td>\n",
              "      <td>13</td>\n",
              "      <td>Partnered</td>\n",
              "      <td>4</td>\n",
              "      <td>2</td>\n",
              "      <td>35247</td>\n",
              "      <td>47</td>\n",
              "    </tr>\n",
              "  </tbody>\n",
              "</table>\n",
              "</div>\n",
              "    <div class=\"colab-df-buttons\">\n",
              "\n",
              "  <div class=\"colab-df-container\">\n",
              "    <button class=\"colab-df-convert\" onclick=\"convertToInteractive('df-262c318f-4206-42b6-8e89-1c678087e290')\"\n",
              "            title=\"Convert this dataframe to an interactive table.\"\n",
              "            style=\"display:none;\">\n",
              "\n",
              "  <svg xmlns=\"http://www.w3.org/2000/svg\" height=\"24px\" viewBox=\"0 -960 960 960\">\n",
              "    <path d=\"M120-120v-720h720v720H120Zm60-500h600v-160H180v160Zm220 220h160v-160H400v160Zm0 220h160v-160H400v160ZM180-400h160v-160H180v160Zm440 0h160v-160H620v160ZM180-180h160v-160H180v160Zm440 0h160v-160H620v160Z\"/>\n",
              "  </svg>\n",
              "    </button>\n",
              "\n",
              "  <style>\n",
              "    .colab-df-container {\n",
              "      display:flex;\n",
              "      gap: 12px;\n",
              "    }\n",
              "\n",
              "    .colab-df-convert {\n",
              "      background-color: #E8F0FE;\n",
              "      border: none;\n",
              "      border-radius: 50%;\n",
              "      cursor: pointer;\n",
              "      display: none;\n",
              "      fill: #1967D2;\n",
              "      height: 32px;\n",
              "      padding: 0 0 0 0;\n",
              "      width: 32px;\n",
              "    }\n",
              "\n",
              "    .colab-df-convert:hover {\n",
              "      background-color: #E2EBFA;\n",
              "      box-shadow: 0px 1px 2px rgba(60, 64, 67, 0.3), 0px 1px 3px 1px rgba(60, 64, 67, 0.15);\n",
              "      fill: #174EA6;\n",
              "    }\n",
              "\n",
              "    .colab-df-buttons div {\n",
              "      margin-bottom: 4px;\n",
              "    }\n",
              "\n",
              "    [theme=dark] .colab-df-convert {\n",
              "      background-color: #3B4455;\n",
              "      fill: #D2E3FC;\n",
              "    }\n",
              "\n",
              "    [theme=dark] .colab-df-convert:hover {\n",
              "      background-color: #434B5C;\n",
              "      box-shadow: 0px 1px 3px 1px rgba(0, 0, 0, 0.15);\n",
              "      filter: drop-shadow(0px 1px 2px rgba(0, 0, 0, 0.3));\n",
              "      fill: #FFFFFF;\n",
              "    }\n",
              "  </style>\n",
              "\n",
              "    <script>\n",
              "      const buttonEl =\n",
              "        document.querySelector('#df-262c318f-4206-42b6-8e89-1c678087e290 button.colab-df-convert');\n",
              "      buttonEl.style.display =\n",
              "        google.colab.kernel.accessAllowed ? 'block' : 'none';\n",
              "\n",
              "      async function convertToInteractive(key) {\n",
              "        const element = document.querySelector('#df-262c318f-4206-42b6-8e89-1c678087e290');\n",
              "        const dataTable =\n",
              "          await google.colab.kernel.invokeFunction('convertToInteractive',\n",
              "                                                    [key], {});\n",
              "        if (!dataTable) return;\n",
              "\n",
              "        const docLinkHtml = 'Like what you see? Visit the ' +\n",
              "          '<a target=\"_blank\" href=https://colab.research.google.com/notebooks/data_table.ipynb>data table notebook</a>'\n",
              "          + ' to learn more about interactive tables.';\n",
              "        element.innerHTML = '';\n",
              "        dataTable['output_type'] = 'display_data';\n",
              "        await google.colab.output.renderOutput(dataTable, element);\n",
              "        const docLink = document.createElement('div');\n",
              "        docLink.innerHTML = docLinkHtml;\n",
              "        element.appendChild(docLink);\n",
              "      }\n",
              "    </script>\n",
              "  </div>\n",
              "\n",
              "\n",
              "<div id=\"df-fc9d337a-6c39-474d-9a99-4dc0d838448f\">\n",
              "  <button class=\"colab-df-quickchart\" onclick=\"quickchart('df-fc9d337a-6c39-474d-9a99-4dc0d838448f')\"\n",
              "            title=\"Suggest charts\"\n",
              "            style=\"display:none;\">\n",
              "\n",
              "<svg xmlns=\"http://www.w3.org/2000/svg\" height=\"24px\"viewBox=\"0 0 24 24\"\n",
              "     width=\"24px\">\n",
              "    <g>\n",
              "        <path d=\"M19 3H5c-1.1 0-2 .9-2 2v14c0 1.1.9 2 2 2h14c1.1 0 2-.9 2-2V5c0-1.1-.9-2-2-2zM9 17H7v-7h2v7zm4 0h-2V7h2v10zm4 0h-2v-4h2v4z\"/>\n",
              "    </g>\n",
              "</svg>\n",
              "  </button>\n",
              "\n",
              "<style>\n",
              "  .colab-df-quickchart {\n",
              "      --bg-color: #E8F0FE;\n",
              "      --fill-color: #1967D2;\n",
              "      --hover-bg-color: #E2EBFA;\n",
              "      --hover-fill-color: #174EA6;\n",
              "      --disabled-fill-color: #AAA;\n",
              "      --disabled-bg-color: #DDD;\n",
              "  }\n",
              "\n",
              "  [theme=dark] .colab-df-quickchart {\n",
              "      --bg-color: #3B4455;\n",
              "      --fill-color: #D2E3FC;\n",
              "      --hover-bg-color: #434B5C;\n",
              "      --hover-fill-color: #FFFFFF;\n",
              "      --disabled-bg-color: #3B4455;\n",
              "      --disabled-fill-color: #666;\n",
              "  }\n",
              "\n",
              "  .colab-df-quickchart {\n",
              "    background-color: var(--bg-color);\n",
              "    border: none;\n",
              "    border-radius: 50%;\n",
              "    cursor: pointer;\n",
              "    display: none;\n",
              "    fill: var(--fill-color);\n",
              "    height: 32px;\n",
              "    padding: 0;\n",
              "    width: 32px;\n",
              "  }\n",
              "\n",
              "  .colab-df-quickchart:hover {\n",
              "    background-color: var(--hover-bg-color);\n",
              "    box-shadow: 0 1px 2px rgba(60, 64, 67, 0.3), 0 1px 3px 1px rgba(60, 64, 67, 0.15);\n",
              "    fill: var(--button-hover-fill-color);\n",
              "  }\n",
              "\n",
              "  .colab-df-quickchart-complete:disabled,\n",
              "  .colab-df-quickchart-complete:disabled:hover {\n",
              "    background-color: var(--disabled-bg-color);\n",
              "    fill: var(--disabled-fill-color);\n",
              "    box-shadow: none;\n",
              "  }\n",
              "\n",
              "  .colab-df-spinner {\n",
              "    border: 2px solid var(--fill-color);\n",
              "    border-color: transparent;\n",
              "    border-bottom-color: var(--fill-color);\n",
              "    animation:\n",
              "      spin 1s steps(1) infinite;\n",
              "  }\n",
              "\n",
              "  @keyframes spin {\n",
              "    0% {\n",
              "      border-color: transparent;\n",
              "      border-bottom-color: var(--fill-color);\n",
              "      border-left-color: var(--fill-color);\n",
              "    }\n",
              "    20% {\n",
              "      border-color: transparent;\n",
              "      border-left-color: var(--fill-color);\n",
              "      border-top-color: var(--fill-color);\n",
              "    }\n",
              "    30% {\n",
              "      border-color: transparent;\n",
              "      border-left-color: var(--fill-color);\n",
              "      border-top-color: var(--fill-color);\n",
              "      border-right-color: var(--fill-color);\n",
              "    }\n",
              "    40% {\n",
              "      border-color: transparent;\n",
              "      border-right-color: var(--fill-color);\n",
              "      border-top-color: var(--fill-color);\n",
              "    }\n",
              "    60% {\n",
              "      border-color: transparent;\n",
              "      border-right-color: var(--fill-color);\n",
              "    }\n",
              "    80% {\n",
              "      border-color: transparent;\n",
              "      border-right-color: var(--fill-color);\n",
              "      border-bottom-color: var(--fill-color);\n",
              "    }\n",
              "    90% {\n",
              "      border-color: transparent;\n",
              "      border-bottom-color: var(--fill-color);\n",
              "    }\n",
              "  }\n",
              "</style>\n",
              "\n",
              "  <script>\n",
              "    async function quickchart(key) {\n",
              "      const quickchartButtonEl =\n",
              "        document.querySelector('#' + key + ' button');\n",
              "      quickchartButtonEl.disabled = true;  // To prevent multiple clicks.\n",
              "      quickchartButtonEl.classList.add('colab-df-spinner');\n",
              "      try {\n",
              "        const charts = await google.colab.kernel.invokeFunction(\n",
              "            'suggestCharts', [key], {});\n",
              "      } catch (error) {\n",
              "        console.error('Error during call to suggestCharts:', error);\n",
              "      }\n",
              "      quickchartButtonEl.classList.remove('colab-df-spinner');\n",
              "      quickchartButtonEl.classList.add('colab-df-quickchart-complete');\n",
              "    }\n",
              "    (() => {\n",
              "      let quickchartButtonEl =\n",
              "        document.querySelector('#df-fc9d337a-6c39-474d-9a99-4dc0d838448f button');\n",
              "      quickchartButtonEl.style.display =\n",
              "        google.colab.kernel.accessAllowed ? 'block' : 'none';\n",
              "    })();\n",
              "  </script>\n",
              "</div>\n",
              "\n",
              "    </div>\n",
              "  </div>\n"
            ],
            "application/vnd.google.colaboratory.intrinsic+json": {
              "type": "dataframe",
              "variable_name": "df",
              "summary": "{\n  \"name\": \"df\",\n  \"rows\": 180,\n  \"fields\": [\n    {\n      \"column\": \"Product\",\n      \"properties\": {\n        \"dtype\": \"category\",\n        \"num_unique_values\": 3,\n        \"samples\": [\n          \"KP281\",\n          \"KP481\",\n          \"KP781\"\n        ],\n        \"semantic_type\": \"\",\n        \"description\": \"\"\n      }\n    },\n    {\n      \"column\": \"Age\",\n      \"properties\": {\n        \"dtype\": \"number\",\n        \"std\": 6,\n        \"min\": 18,\n        \"max\": 50,\n        \"num_unique_values\": 32,\n        \"samples\": [\n          45,\n          33,\n          43\n        ],\n        \"semantic_type\": \"\",\n        \"description\": \"\"\n      }\n    },\n    {\n      \"column\": \"Gender\",\n      \"properties\": {\n        \"dtype\": \"category\",\n        \"num_unique_values\": 2,\n        \"samples\": [\n          \"Female\",\n          \"Male\"\n        ],\n        \"semantic_type\": \"\",\n        \"description\": \"\"\n      }\n    },\n    {\n      \"column\": \"Education\",\n      \"properties\": {\n        \"dtype\": \"number\",\n        \"std\": 1,\n        \"min\": 12,\n        \"max\": 21,\n        \"num_unique_values\": 8,\n        \"samples\": [\n          15,\n          18\n        ],\n        \"semantic_type\": \"\",\n        \"description\": \"\"\n      }\n    },\n    {\n      \"column\": \"MaritalStatus\",\n      \"properties\": {\n        \"dtype\": \"category\",\n        \"num_unique_values\": 2,\n        \"samples\": [\n          \"Partnered\",\n          \"Single\"\n        ],\n        \"semantic_type\": \"\",\n        \"description\": \"\"\n      }\n    },\n    {\n      \"column\": \"Usage\",\n      \"properties\": {\n        \"dtype\": \"number\",\n        \"std\": 1,\n        \"min\": 2,\n        \"max\": 7,\n        \"num_unique_values\": 6,\n        \"samples\": [\n          3,\n          2\n        ],\n        \"semantic_type\": \"\",\n        \"description\": \"\"\n      }\n    },\n    {\n      \"column\": \"Fitness\",\n      \"properties\": {\n        \"dtype\": \"number\",\n        \"std\": 0,\n        \"min\": 1,\n        \"max\": 5,\n        \"num_unique_values\": 5,\n        \"samples\": [\n          3,\n          5\n        ],\n        \"semantic_type\": \"\",\n        \"description\": \"\"\n      }\n    },\n    {\n      \"column\": \"Income\",\n      \"properties\": {\n        \"dtype\": \"number\",\n        \"std\": 16506,\n        \"min\": 29562,\n        \"max\": 104581,\n        \"num_unique_values\": 62,\n        \"samples\": [\n          88396,\n          103336\n        ],\n        \"semantic_type\": \"\",\n        \"description\": \"\"\n      }\n    },\n    {\n      \"column\": \"Miles\",\n      \"properties\": {\n        \"dtype\": \"number\",\n        \"std\": 51,\n        \"min\": 21,\n        \"max\": 360,\n        \"num_unique_values\": 37,\n        \"samples\": [\n          95,\n          169\n        ],\n        \"semantic_type\": \"\",\n        \"description\": \"\"\n      }\n    }\n  ]\n}"
            }
          },
          "metadata": {},
          "execution_count": 100
        }
      ]
    },
    {
      "cell_type": "code",
      "source": [
        "# Viewing the last few rows of a DataFrame.\n",
        "df.tail()"
      ],
      "metadata": {
        "colab": {
          "base_uri": "https://localhost:8080/",
          "height": 206
        },
        "id": "XK91gveRGFsl",
        "outputId": "732138e1-e046-4f42-e786-28434ed9803e"
      },
      "execution_count": null,
      "outputs": [
        {
          "output_type": "execute_result",
          "data": {
            "text/plain": [
              "    Product  Age Gender  Education MaritalStatus  Usage  Fitness  Income  \\\n",
              "175   KP781   40   Male         21        Single      6        5   83416   \n",
              "176   KP781   42   Male         18        Single      5        4   89641   \n",
              "177   KP781   45   Male         16        Single      5        5   90886   \n",
              "178   KP781   47   Male         18     Partnered      4        5  104581   \n",
              "179   KP781   48   Male         18     Partnered      4        5   95508   \n",
              "\n",
              "     Miles  \n",
              "175    200  \n",
              "176    200  \n",
              "177    160  \n",
              "178    120  \n",
              "179    180  "
            ],
            "text/html": [
              "\n",
              "  <div id=\"df-dfd139c5-27ee-4a9f-9a98-603b39ba0e85\" class=\"colab-df-container\">\n",
              "    <div>\n",
              "<style scoped>\n",
              "    .dataframe tbody tr th:only-of-type {\n",
              "        vertical-align: middle;\n",
              "    }\n",
              "\n",
              "    .dataframe tbody tr th {\n",
              "        vertical-align: top;\n",
              "    }\n",
              "\n",
              "    .dataframe thead th {\n",
              "        text-align: right;\n",
              "    }\n",
              "</style>\n",
              "<table border=\"1\" class=\"dataframe\">\n",
              "  <thead>\n",
              "    <tr style=\"text-align: right;\">\n",
              "      <th></th>\n",
              "      <th>Product</th>\n",
              "      <th>Age</th>\n",
              "      <th>Gender</th>\n",
              "      <th>Education</th>\n",
              "      <th>MaritalStatus</th>\n",
              "      <th>Usage</th>\n",
              "      <th>Fitness</th>\n",
              "      <th>Income</th>\n",
              "      <th>Miles</th>\n",
              "    </tr>\n",
              "  </thead>\n",
              "  <tbody>\n",
              "    <tr>\n",
              "      <th>175</th>\n",
              "      <td>KP781</td>\n",
              "      <td>40</td>\n",
              "      <td>Male</td>\n",
              "      <td>21</td>\n",
              "      <td>Single</td>\n",
              "      <td>6</td>\n",
              "      <td>5</td>\n",
              "      <td>83416</td>\n",
              "      <td>200</td>\n",
              "    </tr>\n",
              "    <tr>\n",
              "      <th>176</th>\n",
              "      <td>KP781</td>\n",
              "      <td>42</td>\n",
              "      <td>Male</td>\n",
              "      <td>18</td>\n",
              "      <td>Single</td>\n",
              "      <td>5</td>\n",
              "      <td>4</td>\n",
              "      <td>89641</td>\n",
              "      <td>200</td>\n",
              "    </tr>\n",
              "    <tr>\n",
              "      <th>177</th>\n",
              "      <td>KP781</td>\n",
              "      <td>45</td>\n",
              "      <td>Male</td>\n",
              "      <td>16</td>\n",
              "      <td>Single</td>\n",
              "      <td>5</td>\n",
              "      <td>5</td>\n",
              "      <td>90886</td>\n",
              "      <td>160</td>\n",
              "    </tr>\n",
              "    <tr>\n",
              "      <th>178</th>\n",
              "      <td>KP781</td>\n",
              "      <td>47</td>\n",
              "      <td>Male</td>\n",
              "      <td>18</td>\n",
              "      <td>Partnered</td>\n",
              "      <td>4</td>\n",
              "      <td>5</td>\n",
              "      <td>104581</td>\n",
              "      <td>120</td>\n",
              "    </tr>\n",
              "    <tr>\n",
              "      <th>179</th>\n",
              "      <td>KP781</td>\n",
              "      <td>48</td>\n",
              "      <td>Male</td>\n",
              "      <td>18</td>\n",
              "      <td>Partnered</td>\n",
              "      <td>4</td>\n",
              "      <td>5</td>\n",
              "      <td>95508</td>\n",
              "      <td>180</td>\n",
              "    </tr>\n",
              "  </tbody>\n",
              "</table>\n",
              "</div>\n",
              "    <div class=\"colab-df-buttons\">\n",
              "\n",
              "  <div class=\"colab-df-container\">\n",
              "    <button class=\"colab-df-convert\" onclick=\"convertToInteractive('df-dfd139c5-27ee-4a9f-9a98-603b39ba0e85')\"\n",
              "            title=\"Convert this dataframe to an interactive table.\"\n",
              "            style=\"display:none;\">\n",
              "\n",
              "  <svg xmlns=\"http://www.w3.org/2000/svg\" height=\"24px\" viewBox=\"0 -960 960 960\">\n",
              "    <path d=\"M120-120v-720h720v720H120Zm60-500h600v-160H180v160Zm220 220h160v-160H400v160Zm0 220h160v-160H400v160ZM180-400h160v-160H180v160Zm440 0h160v-160H620v160ZM180-180h160v-160H180v160Zm440 0h160v-160H620v160Z\"/>\n",
              "  </svg>\n",
              "    </button>\n",
              "\n",
              "  <style>\n",
              "    .colab-df-container {\n",
              "      display:flex;\n",
              "      gap: 12px;\n",
              "    }\n",
              "\n",
              "    .colab-df-convert {\n",
              "      background-color: #E8F0FE;\n",
              "      border: none;\n",
              "      border-radius: 50%;\n",
              "      cursor: pointer;\n",
              "      display: none;\n",
              "      fill: #1967D2;\n",
              "      height: 32px;\n",
              "      padding: 0 0 0 0;\n",
              "      width: 32px;\n",
              "    }\n",
              "\n",
              "    .colab-df-convert:hover {\n",
              "      background-color: #E2EBFA;\n",
              "      box-shadow: 0px 1px 2px rgba(60, 64, 67, 0.3), 0px 1px 3px 1px rgba(60, 64, 67, 0.15);\n",
              "      fill: #174EA6;\n",
              "    }\n",
              "\n",
              "    .colab-df-buttons div {\n",
              "      margin-bottom: 4px;\n",
              "    }\n",
              "\n",
              "    [theme=dark] .colab-df-convert {\n",
              "      background-color: #3B4455;\n",
              "      fill: #D2E3FC;\n",
              "    }\n",
              "\n",
              "    [theme=dark] .colab-df-convert:hover {\n",
              "      background-color: #434B5C;\n",
              "      box-shadow: 0px 1px 3px 1px rgba(0, 0, 0, 0.15);\n",
              "      filter: drop-shadow(0px 1px 2px rgba(0, 0, 0, 0.3));\n",
              "      fill: #FFFFFF;\n",
              "    }\n",
              "  </style>\n",
              "\n",
              "    <script>\n",
              "      const buttonEl =\n",
              "        document.querySelector('#df-dfd139c5-27ee-4a9f-9a98-603b39ba0e85 button.colab-df-convert');\n",
              "      buttonEl.style.display =\n",
              "        google.colab.kernel.accessAllowed ? 'block' : 'none';\n",
              "\n",
              "      async function convertToInteractive(key) {\n",
              "        const element = document.querySelector('#df-dfd139c5-27ee-4a9f-9a98-603b39ba0e85');\n",
              "        const dataTable =\n",
              "          await google.colab.kernel.invokeFunction('convertToInteractive',\n",
              "                                                    [key], {});\n",
              "        if (!dataTable) return;\n",
              "\n",
              "        const docLinkHtml = 'Like what you see? Visit the ' +\n",
              "          '<a target=\"_blank\" href=https://colab.research.google.com/notebooks/data_table.ipynb>data table notebook</a>'\n",
              "          + ' to learn more about interactive tables.';\n",
              "        element.innerHTML = '';\n",
              "        dataTable['output_type'] = 'display_data';\n",
              "        await google.colab.output.renderOutput(dataTable, element);\n",
              "        const docLink = document.createElement('div');\n",
              "        docLink.innerHTML = docLinkHtml;\n",
              "        element.appendChild(docLink);\n",
              "      }\n",
              "    </script>\n",
              "  </div>\n",
              "\n",
              "\n",
              "<div id=\"df-1161f0c5-e743-4f86-8450-3ca5ba7491aa\">\n",
              "  <button class=\"colab-df-quickchart\" onclick=\"quickchart('df-1161f0c5-e743-4f86-8450-3ca5ba7491aa')\"\n",
              "            title=\"Suggest charts\"\n",
              "            style=\"display:none;\">\n",
              "\n",
              "<svg xmlns=\"http://www.w3.org/2000/svg\" height=\"24px\"viewBox=\"0 0 24 24\"\n",
              "     width=\"24px\">\n",
              "    <g>\n",
              "        <path d=\"M19 3H5c-1.1 0-2 .9-2 2v14c0 1.1.9 2 2 2h14c1.1 0 2-.9 2-2V5c0-1.1-.9-2-2-2zM9 17H7v-7h2v7zm4 0h-2V7h2v10zm4 0h-2v-4h2v4z\"/>\n",
              "    </g>\n",
              "</svg>\n",
              "  </button>\n",
              "\n",
              "<style>\n",
              "  .colab-df-quickchart {\n",
              "      --bg-color: #E8F0FE;\n",
              "      --fill-color: #1967D2;\n",
              "      --hover-bg-color: #E2EBFA;\n",
              "      --hover-fill-color: #174EA6;\n",
              "      --disabled-fill-color: #AAA;\n",
              "      --disabled-bg-color: #DDD;\n",
              "  }\n",
              "\n",
              "  [theme=dark] .colab-df-quickchart {\n",
              "      --bg-color: #3B4455;\n",
              "      --fill-color: #D2E3FC;\n",
              "      --hover-bg-color: #434B5C;\n",
              "      --hover-fill-color: #FFFFFF;\n",
              "      --disabled-bg-color: #3B4455;\n",
              "      --disabled-fill-color: #666;\n",
              "  }\n",
              "\n",
              "  .colab-df-quickchart {\n",
              "    background-color: var(--bg-color);\n",
              "    border: none;\n",
              "    border-radius: 50%;\n",
              "    cursor: pointer;\n",
              "    display: none;\n",
              "    fill: var(--fill-color);\n",
              "    height: 32px;\n",
              "    padding: 0;\n",
              "    width: 32px;\n",
              "  }\n",
              "\n",
              "  .colab-df-quickchart:hover {\n",
              "    background-color: var(--hover-bg-color);\n",
              "    box-shadow: 0 1px 2px rgba(60, 64, 67, 0.3), 0 1px 3px 1px rgba(60, 64, 67, 0.15);\n",
              "    fill: var(--button-hover-fill-color);\n",
              "  }\n",
              "\n",
              "  .colab-df-quickchart-complete:disabled,\n",
              "  .colab-df-quickchart-complete:disabled:hover {\n",
              "    background-color: var(--disabled-bg-color);\n",
              "    fill: var(--disabled-fill-color);\n",
              "    box-shadow: none;\n",
              "  }\n",
              "\n",
              "  .colab-df-spinner {\n",
              "    border: 2px solid var(--fill-color);\n",
              "    border-color: transparent;\n",
              "    border-bottom-color: var(--fill-color);\n",
              "    animation:\n",
              "      spin 1s steps(1) infinite;\n",
              "  }\n",
              "\n",
              "  @keyframes spin {\n",
              "    0% {\n",
              "      border-color: transparent;\n",
              "      border-bottom-color: var(--fill-color);\n",
              "      border-left-color: var(--fill-color);\n",
              "    }\n",
              "    20% {\n",
              "      border-color: transparent;\n",
              "      border-left-color: var(--fill-color);\n",
              "      border-top-color: var(--fill-color);\n",
              "    }\n",
              "    30% {\n",
              "      border-color: transparent;\n",
              "      border-left-color: var(--fill-color);\n",
              "      border-top-color: var(--fill-color);\n",
              "      border-right-color: var(--fill-color);\n",
              "    }\n",
              "    40% {\n",
              "      border-color: transparent;\n",
              "      border-right-color: var(--fill-color);\n",
              "      border-top-color: var(--fill-color);\n",
              "    }\n",
              "    60% {\n",
              "      border-color: transparent;\n",
              "      border-right-color: var(--fill-color);\n",
              "    }\n",
              "    80% {\n",
              "      border-color: transparent;\n",
              "      border-right-color: var(--fill-color);\n",
              "      border-bottom-color: var(--fill-color);\n",
              "    }\n",
              "    90% {\n",
              "      border-color: transparent;\n",
              "      border-bottom-color: var(--fill-color);\n",
              "    }\n",
              "  }\n",
              "</style>\n",
              "\n",
              "  <script>\n",
              "    async function quickchart(key) {\n",
              "      const quickchartButtonEl =\n",
              "        document.querySelector('#' + key + ' button');\n",
              "      quickchartButtonEl.disabled = true;  // To prevent multiple clicks.\n",
              "      quickchartButtonEl.classList.add('colab-df-spinner');\n",
              "      try {\n",
              "        const charts = await google.colab.kernel.invokeFunction(\n",
              "            'suggestCharts', [key], {});\n",
              "      } catch (error) {\n",
              "        console.error('Error during call to suggestCharts:', error);\n",
              "      }\n",
              "      quickchartButtonEl.classList.remove('colab-df-spinner');\n",
              "      quickchartButtonEl.classList.add('colab-df-quickchart-complete');\n",
              "    }\n",
              "    (() => {\n",
              "      let quickchartButtonEl =\n",
              "        document.querySelector('#df-1161f0c5-e743-4f86-8450-3ca5ba7491aa button');\n",
              "      quickchartButtonEl.style.display =\n",
              "        google.colab.kernel.accessAllowed ? 'block' : 'none';\n",
              "    })();\n",
              "  </script>\n",
              "</div>\n",
              "\n",
              "    </div>\n",
              "  </div>\n"
            ],
            "application/vnd.google.colaboratory.intrinsic+json": {
              "type": "dataframe",
              "summary": "{\n  \"name\": \"df\",\n  \"rows\": 5,\n  \"fields\": [\n    {\n      \"column\": \"Product\",\n      \"properties\": {\n        \"dtype\": \"category\",\n        \"num_unique_values\": 1,\n        \"samples\": [\n          \"KP781\"\n        ],\n        \"semantic_type\": \"\",\n        \"description\": \"\"\n      }\n    },\n    {\n      \"column\": \"Age\",\n      \"properties\": {\n        \"dtype\": \"number\",\n        \"std\": 3,\n        \"min\": 40,\n        \"max\": 48,\n        \"num_unique_values\": 5,\n        \"samples\": [\n          42\n        ],\n        \"semantic_type\": \"\",\n        \"description\": \"\"\n      }\n    },\n    {\n      \"column\": \"Gender\",\n      \"properties\": {\n        \"dtype\": \"category\",\n        \"num_unique_values\": 1,\n        \"samples\": [\n          \"Male\"\n        ],\n        \"semantic_type\": \"\",\n        \"description\": \"\"\n      }\n    },\n    {\n      \"column\": \"Education\",\n      \"properties\": {\n        \"dtype\": \"number\",\n        \"std\": 1,\n        \"min\": 16,\n        \"max\": 21,\n        \"num_unique_values\": 3,\n        \"samples\": [\n          21\n        ],\n        \"semantic_type\": \"\",\n        \"description\": \"\"\n      }\n    },\n    {\n      \"column\": \"MaritalStatus\",\n      \"properties\": {\n        \"dtype\": \"category\",\n        \"num_unique_values\": 2,\n        \"samples\": [\n          \"Partnered\"\n        ],\n        \"semantic_type\": \"\",\n        \"description\": \"\"\n      }\n    },\n    {\n      \"column\": \"Usage\",\n      \"properties\": {\n        \"dtype\": \"number\",\n        \"std\": 0,\n        \"min\": 4,\n        \"max\": 6,\n        \"num_unique_values\": 3,\n        \"samples\": [\n          6\n        ],\n        \"semantic_type\": \"\",\n        \"description\": \"\"\n      }\n    },\n    {\n      \"column\": \"Fitness\",\n      \"properties\": {\n        \"dtype\": \"number\",\n        \"std\": 0,\n        \"min\": 4,\n        \"max\": 5,\n        \"num_unique_values\": 2,\n        \"samples\": [\n          4\n        ],\n        \"semantic_type\": \"\",\n        \"description\": \"\"\n      }\n    },\n    {\n      \"column\": \"Income\",\n      \"properties\": {\n        \"dtype\": \"number\",\n        \"std\": 7871,\n        \"min\": 83416,\n        \"max\": 104581,\n        \"num_unique_values\": 5,\n        \"samples\": [\n          89641\n        ],\n        \"semantic_type\": \"\",\n        \"description\": \"\"\n      }\n    },\n    {\n      \"column\": \"Miles\",\n      \"properties\": {\n        \"dtype\": \"number\",\n        \"std\": 33,\n        \"min\": 120,\n        \"max\": 200,\n        \"num_unique_values\": 4,\n        \"samples\": [\n          160\n        ],\n        \"semantic_type\": \"\",\n        \"description\": \"\"\n      }\n    }\n  ]\n}"
            }
          },
          "metadata": {},
          "execution_count": 101
        }
      ]
    },
    {
      "cell_type": "code",
      "source": [
        "# Retrieving the dimensions of a DataFrame (Rows, Columns).\n",
        "df.shape\n"
      ],
      "metadata": {
        "colab": {
          "base_uri": "https://localhost:8080/"
        },
        "id": "wTa1EKDMveka",
        "outputId": "15d2e4ce-6700-4eb1-9297-ce30b1cc67de"
      },
      "execution_count": null,
      "outputs": [
        {
          "output_type": "execute_result",
          "data": {
            "text/plain": [
              "(180, 9)"
            ]
          },
          "metadata": {},
          "execution_count": 102
        }
      ]
    },
    {
      "cell_type": "code",
      "source": [
        "# Display the number of missing values (NaN) in each column of the DataFrame\n",
        "df.isnull().sum()"
      ],
      "metadata": {
        "colab": {
          "base_uri": "https://localhost:8080/"
        },
        "id": "lpHvgEq8viX3",
        "outputId": "43e2a9b7-1305-4e1b-f681-c207055bb5d3"
      },
      "execution_count": null,
      "outputs": [
        {
          "output_type": "execute_result",
          "data": {
            "text/plain": [
              "Product          0\n",
              "Age              0\n",
              "Gender           0\n",
              "Education        0\n",
              "MaritalStatus    0\n",
              "Usage            0\n",
              "Fitness          0\n",
              "Income           0\n",
              "Miles            0\n",
              "dtype: int64"
            ]
          },
          "metadata": {},
          "execution_count": 103
        }
      ]
    },
    {
      "cell_type": "code",
      "source": [
        "# Retrive the overview of a DataFrame's structure and content.\n",
        "df.info()"
      ],
      "metadata": {
        "colab": {
          "base_uri": "https://localhost:8080/"
        },
        "id": "IdVKU5u1v6kU",
        "outputId": "ee403c65-18cc-4bbb-8e81-6eea69a4ca4b"
      },
      "execution_count": null,
      "outputs": [
        {
          "output_type": "stream",
          "name": "stdout",
          "text": [
            "<class 'pandas.core.frame.DataFrame'>\n",
            "RangeIndex: 180 entries, 0 to 179\n",
            "Data columns (total 9 columns):\n",
            " #   Column         Non-Null Count  Dtype \n",
            "---  ------         --------------  ----- \n",
            " 0   Product        180 non-null    object\n",
            " 1   Age            180 non-null    int64 \n",
            " 2   Gender         180 non-null    object\n",
            " 3   Education      180 non-null    int64 \n",
            " 4   MaritalStatus  180 non-null    object\n",
            " 5   Usage          180 non-null    int64 \n",
            " 6   Fitness        180 non-null    int64 \n",
            " 7   Income         180 non-null    int64 \n",
            " 8   Miles          180 non-null    int64 \n",
            "dtypes: int64(6), object(3)\n",
            "memory usage: 12.8+ KB\n"
          ]
        }
      ]
    },
    {
      "cell_type": "code",
      "source": [
        "# Retrieving statistics of the numerical columns in a DataFrame.\n",
        "df.describe()"
      ],
      "metadata": {
        "colab": {
          "base_uri": "https://localhost:8080/",
          "height": 320
        },
        "id": "hMr3_Zx5yhI6",
        "outputId": "40f4ad44-f388-4a81-c311-7875f4cba9c8"
      },
      "execution_count": null,
      "outputs": [
        {
          "output_type": "execute_result",
          "data": {
            "text/plain": [
              "              Age   Education       Usage     Fitness         Income  \\\n",
              "count  180.000000  180.000000  180.000000  180.000000     180.000000   \n",
              "mean    28.788889   15.572222    3.455556    3.311111   53719.577778   \n",
              "std      6.943498    1.617055    1.084797    0.958869   16506.684226   \n",
              "min     18.000000   12.000000    2.000000    1.000000   29562.000000   \n",
              "25%     24.000000   14.000000    3.000000    3.000000   44058.750000   \n",
              "50%     26.000000   16.000000    3.000000    3.000000   50596.500000   \n",
              "75%     33.000000   16.000000    4.000000    4.000000   58668.000000   \n",
              "max     50.000000   21.000000    7.000000    5.000000  104581.000000   \n",
              "\n",
              "            Miles  \n",
              "count  180.000000  \n",
              "mean   103.194444  \n",
              "std     51.863605  \n",
              "min     21.000000  \n",
              "25%     66.000000  \n",
              "50%     94.000000  \n",
              "75%    114.750000  \n",
              "max    360.000000  "
            ],
            "text/html": [
              "\n",
              "  <div id=\"df-4efaf76c-f425-4624-94b9-51f93cd26088\" class=\"colab-df-container\">\n",
              "    <div>\n",
              "<style scoped>\n",
              "    .dataframe tbody tr th:only-of-type {\n",
              "        vertical-align: middle;\n",
              "    }\n",
              "\n",
              "    .dataframe tbody tr th {\n",
              "        vertical-align: top;\n",
              "    }\n",
              "\n",
              "    .dataframe thead th {\n",
              "        text-align: right;\n",
              "    }\n",
              "</style>\n",
              "<table border=\"1\" class=\"dataframe\">\n",
              "  <thead>\n",
              "    <tr style=\"text-align: right;\">\n",
              "      <th></th>\n",
              "      <th>Age</th>\n",
              "      <th>Education</th>\n",
              "      <th>Usage</th>\n",
              "      <th>Fitness</th>\n",
              "      <th>Income</th>\n",
              "      <th>Miles</th>\n",
              "    </tr>\n",
              "  </thead>\n",
              "  <tbody>\n",
              "    <tr>\n",
              "      <th>count</th>\n",
              "      <td>180.000000</td>\n",
              "      <td>180.000000</td>\n",
              "      <td>180.000000</td>\n",
              "      <td>180.000000</td>\n",
              "      <td>180.000000</td>\n",
              "      <td>180.000000</td>\n",
              "    </tr>\n",
              "    <tr>\n",
              "      <th>mean</th>\n",
              "      <td>28.788889</td>\n",
              "      <td>15.572222</td>\n",
              "      <td>3.455556</td>\n",
              "      <td>3.311111</td>\n",
              "      <td>53719.577778</td>\n",
              "      <td>103.194444</td>\n",
              "    </tr>\n",
              "    <tr>\n",
              "      <th>std</th>\n",
              "      <td>6.943498</td>\n",
              "      <td>1.617055</td>\n",
              "      <td>1.084797</td>\n",
              "      <td>0.958869</td>\n",
              "      <td>16506.684226</td>\n",
              "      <td>51.863605</td>\n",
              "    </tr>\n",
              "    <tr>\n",
              "      <th>min</th>\n",
              "      <td>18.000000</td>\n",
              "      <td>12.000000</td>\n",
              "      <td>2.000000</td>\n",
              "      <td>1.000000</td>\n",
              "      <td>29562.000000</td>\n",
              "      <td>21.000000</td>\n",
              "    </tr>\n",
              "    <tr>\n",
              "      <th>25%</th>\n",
              "      <td>24.000000</td>\n",
              "      <td>14.000000</td>\n",
              "      <td>3.000000</td>\n",
              "      <td>3.000000</td>\n",
              "      <td>44058.750000</td>\n",
              "      <td>66.000000</td>\n",
              "    </tr>\n",
              "    <tr>\n",
              "      <th>50%</th>\n",
              "      <td>26.000000</td>\n",
              "      <td>16.000000</td>\n",
              "      <td>3.000000</td>\n",
              "      <td>3.000000</td>\n",
              "      <td>50596.500000</td>\n",
              "      <td>94.000000</td>\n",
              "    </tr>\n",
              "    <tr>\n",
              "      <th>75%</th>\n",
              "      <td>33.000000</td>\n",
              "      <td>16.000000</td>\n",
              "      <td>4.000000</td>\n",
              "      <td>4.000000</td>\n",
              "      <td>58668.000000</td>\n",
              "      <td>114.750000</td>\n",
              "    </tr>\n",
              "    <tr>\n",
              "      <th>max</th>\n",
              "      <td>50.000000</td>\n",
              "      <td>21.000000</td>\n",
              "      <td>7.000000</td>\n",
              "      <td>5.000000</td>\n",
              "      <td>104581.000000</td>\n",
              "      <td>360.000000</td>\n",
              "    </tr>\n",
              "  </tbody>\n",
              "</table>\n",
              "</div>\n",
              "    <div class=\"colab-df-buttons\">\n",
              "\n",
              "  <div class=\"colab-df-container\">\n",
              "    <button class=\"colab-df-convert\" onclick=\"convertToInteractive('df-4efaf76c-f425-4624-94b9-51f93cd26088')\"\n",
              "            title=\"Convert this dataframe to an interactive table.\"\n",
              "            style=\"display:none;\">\n",
              "\n",
              "  <svg xmlns=\"http://www.w3.org/2000/svg\" height=\"24px\" viewBox=\"0 -960 960 960\">\n",
              "    <path d=\"M120-120v-720h720v720H120Zm60-500h600v-160H180v160Zm220 220h160v-160H400v160Zm0 220h160v-160H400v160ZM180-400h160v-160H180v160Zm440 0h160v-160H620v160ZM180-180h160v-160H180v160Zm440 0h160v-160H620v160Z\"/>\n",
              "  </svg>\n",
              "    </button>\n",
              "\n",
              "  <style>\n",
              "    .colab-df-container {\n",
              "      display:flex;\n",
              "      gap: 12px;\n",
              "    }\n",
              "\n",
              "    .colab-df-convert {\n",
              "      background-color: #E8F0FE;\n",
              "      border: none;\n",
              "      border-radius: 50%;\n",
              "      cursor: pointer;\n",
              "      display: none;\n",
              "      fill: #1967D2;\n",
              "      height: 32px;\n",
              "      padding: 0 0 0 0;\n",
              "      width: 32px;\n",
              "    }\n",
              "\n",
              "    .colab-df-convert:hover {\n",
              "      background-color: #E2EBFA;\n",
              "      box-shadow: 0px 1px 2px rgba(60, 64, 67, 0.3), 0px 1px 3px 1px rgba(60, 64, 67, 0.15);\n",
              "      fill: #174EA6;\n",
              "    }\n",
              "\n",
              "    .colab-df-buttons div {\n",
              "      margin-bottom: 4px;\n",
              "    }\n",
              "\n",
              "    [theme=dark] .colab-df-convert {\n",
              "      background-color: #3B4455;\n",
              "      fill: #D2E3FC;\n",
              "    }\n",
              "\n",
              "    [theme=dark] .colab-df-convert:hover {\n",
              "      background-color: #434B5C;\n",
              "      box-shadow: 0px 1px 3px 1px rgba(0, 0, 0, 0.15);\n",
              "      filter: drop-shadow(0px 1px 2px rgba(0, 0, 0, 0.3));\n",
              "      fill: #FFFFFF;\n",
              "    }\n",
              "  </style>\n",
              "\n",
              "    <script>\n",
              "      const buttonEl =\n",
              "        document.querySelector('#df-4efaf76c-f425-4624-94b9-51f93cd26088 button.colab-df-convert');\n",
              "      buttonEl.style.display =\n",
              "        google.colab.kernel.accessAllowed ? 'block' : 'none';\n",
              "\n",
              "      async function convertToInteractive(key) {\n",
              "        const element = document.querySelector('#df-4efaf76c-f425-4624-94b9-51f93cd26088');\n",
              "        const dataTable =\n",
              "          await google.colab.kernel.invokeFunction('convertToInteractive',\n",
              "                                                    [key], {});\n",
              "        if (!dataTable) return;\n",
              "\n",
              "        const docLinkHtml = 'Like what you see? Visit the ' +\n",
              "          '<a target=\"_blank\" href=https://colab.research.google.com/notebooks/data_table.ipynb>data table notebook</a>'\n",
              "          + ' to learn more about interactive tables.';\n",
              "        element.innerHTML = '';\n",
              "        dataTable['output_type'] = 'display_data';\n",
              "        await google.colab.output.renderOutput(dataTable, element);\n",
              "        const docLink = document.createElement('div');\n",
              "        docLink.innerHTML = docLinkHtml;\n",
              "        element.appendChild(docLink);\n",
              "      }\n",
              "    </script>\n",
              "  </div>\n",
              "\n",
              "\n",
              "<div id=\"df-e035d958-12f7-428f-81ec-84f8dc90fcc4\">\n",
              "  <button class=\"colab-df-quickchart\" onclick=\"quickchart('df-e035d958-12f7-428f-81ec-84f8dc90fcc4')\"\n",
              "            title=\"Suggest charts\"\n",
              "            style=\"display:none;\">\n",
              "\n",
              "<svg xmlns=\"http://www.w3.org/2000/svg\" height=\"24px\"viewBox=\"0 0 24 24\"\n",
              "     width=\"24px\">\n",
              "    <g>\n",
              "        <path d=\"M19 3H5c-1.1 0-2 .9-2 2v14c0 1.1.9 2 2 2h14c1.1 0 2-.9 2-2V5c0-1.1-.9-2-2-2zM9 17H7v-7h2v7zm4 0h-2V7h2v10zm4 0h-2v-4h2v4z\"/>\n",
              "    </g>\n",
              "</svg>\n",
              "  </button>\n",
              "\n",
              "<style>\n",
              "  .colab-df-quickchart {\n",
              "      --bg-color: #E8F0FE;\n",
              "      --fill-color: #1967D2;\n",
              "      --hover-bg-color: #E2EBFA;\n",
              "      --hover-fill-color: #174EA6;\n",
              "      --disabled-fill-color: #AAA;\n",
              "      --disabled-bg-color: #DDD;\n",
              "  }\n",
              "\n",
              "  [theme=dark] .colab-df-quickchart {\n",
              "      --bg-color: #3B4455;\n",
              "      --fill-color: #D2E3FC;\n",
              "      --hover-bg-color: #434B5C;\n",
              "      --hover-fill-color: #FFFFFF;\n",
              "      --disabled-bg-color: #3B4455;\n",
              "      --disabled-fill-color: #666;\n",
              "  }\n",
              "\n",
              "  .colab-df-quickchart {\n",
              "    background-color: var(--bg-color);\n",
              "    border: none;\n",
              "    border-radius: 50%;\n",
              "    cursor: pointer;\n",
              "    display: none;\n",
              "    fill: var(--fill-color);\n",
              "    height: 32px;\n",
              "    padding: 0;\n",
              "    width: 32px;\n",
              "  }\n",
              "\n",
              "  .colab-df-quickchart:hover {\n",
              "    background-color: var(--hover-bg-color);\n",
              "    box-shadow: 0 1px 2px rgba(60, 64, 67, 0.3), 0 1px 3px 1px rgba(60, 64, 67, 0.15);\n",
              "    fill: var(--button-hover-fill-color);\n",
              "  }\n",
              "\n",
              "  .colab-df-quickchart-complete:disabled,\n",
              "  .colab-df-quickchart-complete:disabled:hover {\n",
              "    background-color: var(--disabled-bg-color);\n",
              "    fill: var(--disabled-fill-color);\n",
              "    box-shadow: none;\n",
              "  }\n",
              "\n",
              "  .colab-df-spinner {\n",
              "    border: 2px solid var(--fill-color);\n",
              "    border-color: transparent;\n",
              "    border-bottom-color: var(--fill-color);\n",
              "    animation:\n",
              "      spin 1s steps(1) infinite;\n",
              "  }\n",
              "\n",
              "  @keyframes spin {\n",
              "    0% {\n",
              "      border-color: transparent;\n",
              "      border-bottom-color: var(--fill-color);\n",
              "      border-left-color: var(--fill-color);\n",
              "    }\n",
              "    20% {\n",
              "      border-color: transparent;\n",
              "      border-left-color: var(--fill-color);\n",
              "      border-top-color: var(--fill-color);\n",
              "    }\n",
              "    30% {\n",
              "      border-color: transparent;\n",
              "      border-left-color: var(--fill-color);\n",
              "      border-top-color: var(--fill-color);\n",
              "      border-right-color: var(--fill-color);\n",
              "    }\n",
              "    40% {\n",
              "      border-color: transparent;\n",
              "      border-right-color: var(--fill-color);\n",
              "      border-top-color: var(--fill-color);\n",
              "    }\n",
              "    60% {\n",
              "      border-color: transparent;\n",
              "      border-right-color: var(--fill-color);\n",
              "    }\n",
              "    80% {\n",
              "      border-color: transparent;\n",
              "      border-right-color: var(--fill-color);\n",
              "      border-bottom-color: var(--fill-color);\n",
              "    }\n",
              "    90% {\n",
              "      border-color: transparent;\n",
              "      border-bottom-color: var(--fill-color);\n",
              "    }\n",
              "  }\n",
              "</style>\n",
              "\n",
              "  <script>\n",
              "    async function quickchart(key) {\n",
              "      const quickchartButtonEl =\n",
              "        document.querySelector('#' + key + ' button');\n",
              "      quickchartButtonEl.disabled = true;  // To prevent multiple clicks.\n",
              "      quickchartButtonEl.classList.add('colab-df-spinner');\n",
              "      try {\n",
              "        const charts = await google.colab.kernel.invokeFunction(\n",
              "            'suggestCharts', [key], {});\n",
              "      } catch (error) {\n",
              "        console.error('Error during call to suggestCharts:', error);\n",
              "      }\n",
              "      quickchartButtonEl.classList.remove('colab-df-spinner');\n",
              "      quickchartButtonEl.classList.add('colab-df-quickchart-complete');\n",
              "    }\n",
              "    (() => {\n",
              "      let quickchartButtonEl =\n",
              "        document.querySelector('#df-e035d958-12f7-428f-81ec-84f8dc90fcc4 button');\n",
              "      quickchartButtonEl.style.display =\n",
              "        google.colab.kernel.accessAllowed ? 'block' : 'none';\n",
              "    })();\n",
              "  </script>\n",
              "</div>\n",
              "\n",
              "    </div>\n",
              "  </div>\n"
            ],
            "application/vnd.google.colaboratory.intrinsic+json": {
              "type": "dataframe",
              "summary": "{\n  \"name\": \"df\",\n  \"rows\": 8,\n  \"fields\": [\n    {\n      \"column\": \"Age\",\n      \"properties\": {\n        \"dtype\": \"number\",\n        \"std\": 55.58832332198464,\n        \"min\": 6.943498135399795,\n        \"max\": 180.0,\n        \"num_unique_values\": 8,\n        \"samples\": [\n          28.788888888888888,\n          26.0,\n          180.0\n        ],\n        \"semantic_type\": \"\",\n        \"description\": \"\"\n      }\n    },\n    {\n      \"column\": \"Education\",\n      \"properties\": {\n        \"dtype\": \"number\",\n        \"std\": 59.04362112875324,\n        \"min\": 1.6170548978065569,\n        \"max\": 180.0,\n        \"num_unique_values\": 7,\n        \"samples\": [\n          180.0,\n          15.572222222222223,\n          16.0\n        ],\n        \"semantic_type\": \"\",\n        \"description\": \"\"\n      }\n    },\n    {\n      \"column\": \"Usage\",\n      \"properties\": {\n        \"dtype\": \"number\",\n        \"std\": 62.474604277313155,\n        \"min\": 1.0847970343962436,\n        \"max\": 180.0,\n        \"num_unique_values\": 7,\n        \"samples\": [\n          180.0,\n          3.4555555555555557,\n          4.0\n        ],\n        \"semantic_type\": \"\",\n        \"description\": \"\"\n      }\n    },\n    {\n      \"column\": \"Fitness\",\n      \"properties\": {\n        \"dtype\": \"number\",\n        \"std\": 62.63086276036247,\n        \"min\": 0.958868565619312,\n        \"max\": 180.0,\n        \"num_unique_values\": 7,\n        \"samples\": [\n          180.0,\n          3.311111111111111,\n          4.0\n        ],\n        \"semantic_type\": \"\",\n        \"description\": \"\"\n      }\n    },\n    {\n      \"column\": \"Income\",\n      \"properties\": {\n        \"dtype\": \"number\",\n        \"std\": 31403.855763201762,\n        \"min\": 180.0,\n        \"max\": 104581.0,\n        \"num_unique_values\": 8,\n        \"samples\": [\n          53719.57777777778,\n          50596.5,\n          180.0\n        ],\n        \"semantic_type\": \"\",\n        \"description\": \"\"\n      }\n    },\n    {\n      \"column\": \"Miles\",\n      \"properties\": {\n        \"dtype\": \"number\",\n        \"std\": 106.52090041797727,\n        \"min\": 21.0,\n        \"max\": 360.0,\n        \"num_unique_values\": 8,\n        \"samples\": [\n          103.19444444444444,\n          94.0,\n          180.0\n        ],\n        \"semantic_type\": \"\",\n        \"description\": \"\"\n      }\n    }\n  ]\n}"
            }
          },
          "metadata": {},
          "execution_count": 105
        }
      ]
    },
    {
      "cell_type": "code",
      "source": [
        "# Retrieving the column labels (names) of a DataFrame .\n",
        "df.columns"
      ],
      "metadata": {
        "colab": {
          "base_uri": "https://localhost:8080/"
        },
        "id": "MknMpQoPykM_",
        "outputId": "09585721-1e04-485f-b4d7-cc0655652345"
      },
      "execution_count": null,
      "outputs": [
        {
          "output_type": "execute_result",
          "data": {
            "text/plain": [
              "Index(['Product', 'Age', 'Gender', 'Education', 'MaritalStatus', 'Usage',\n",
              "       'Fitness', 'Income', 'Miles'],\n",
              "      dtype='object')"
            ]
          },
          "metadata": {},
          "execution_count": 106
        }
      ]
    },
    {
      "cell_type": "code",
      "source": [
        "# Display the data type of each column in a DataFrame\n",
        "df.dtypes"
      ],
      "metadata": {
        "colab": {
          "base_uri": "https://localhost:8080/"
        },
        "id": "FPcjGhLZ1Aje",
        "outputId": "79af3f1e-aecf-497a-c6d3-1414a22b3689"
      },
      "execution_count": null,
      "outputs": [
        {
          "output_type": "execute_result",
          "data": {
            "text/plain": [
              "Product          object\n",
              "Age               int64\n",
              "Gender           object\n",
              "Education         int64\n",
              "MaritalStatus    object\n",
              "Usage             int64\n",
              "Fitness           int64\n",
              "Income            int64\n",
              "Miles             int64\n",
              "dtype: object"
            ]
          },
          "metadata": {},
          "execution_count": 107
        }
      ]
    },
    {
      "cell_type": "markdown",
      "source": [
        "## Checking for Outliers"
      ],
      "metadata": {
        "id": "4J7_Nb4v1Q-r"
      }
    },
    {
      "cell_type": "markdown",
      "source": [
        "1) Age"
      ],
      "metadata": {
        "id": "HsCoOOO61vsf"
      }
    },
    {
      "cell_type": "code",
      "source": [
        "plt.figure(figsize=(8, 5))\n",
        "sns.boxplot(x = df[\"Age\"])\n",
        "plt.title(\"Boxplot of Age\")\n",
        "plt.show()"
      ],
      "metadata": {
        "colab": {
          "base_uri": "https://localhost:8080/",
          "height": 397
        },
        "id": "Ejpob5Qs1Zgv",
        "outputId": "5e2a59ba-7fd2-45e5-a127-cd85c0fefd94"
      },
      "execution_count": null,
      "outputs": [
        {
          "output_type": "display_data",
          "data": {
            "text/plain": [
              "<Figure size 800x500 with 1 Axes>"
            ],
            "image/png": "[encoded data removed]"
          },
          "metadata": {}
        }
      ]
    },
    {
      "cell_type": "markdown",
      "source": [
        "## Detecting Outlier values using **Interquartile Range (IQR)** Method"
      ],
      "metadata": {
        "id": "h-Lb8f9F5VMz"
      }
    },
    {
      "cell_type": "code",
      "source": [
        "Q1 = df[\"Age\"].quantile(0.25)\n",
        "Q3 = df[\"Age\"].quantile(0.75)\n",
        "IQR = Q3 - Q1\n",
        "\n",
        "# Set k = 1.5\n",
        "k = 1.5\n",
        "left_most = Q1 - k * IQR\n",
        "right_most = Q3 + k * IQR\n",
        "\n",
        "print(\"Left boundary:\", left_most)\n",
        "print(\"Right boundary:\", right_most)\n",
        "\n",
        "\n",
        "outliers = df[(df[\"Age\"] < left_most) | (df[\"Age\"] > right_most)][\"Age\"]\n",
        "\n",
        "print(\"Outlier Ages:\", set(outliers.tolist()))"
      ],
      "metadata": {
        "colab": {
          "base_uri": "https://localhost:8080/"
        },
        "id": "qtpD42ix9dck",
        "outputId": "ea733029-b4db-481c-b63f-8b142db9a47f"
      },
      "execution_count": null,
      "outputs": [
        {
          "output_type": "stream",
          "name": "stdout",
          "text": [
            "Left boundary: 10.5\n",
            "Right boundary: 46.5\n",
            "Outlier Ages: {48, 50, 47}\n"
          ]
        }
      ]
    },
    {
      "cell_type": "markdown",
      "source": [
        "## Cumulative Distribution Function (CDF)"
      ],
      "metadata": {
        "id": "77Ue_Z9JGVFZ"
      }
    },
    {
      "cell_type": "code",
      "source": [
        "min_age = df[\"Age\"].min()\n",
        "max_age = df[\"Age\"].max()\n",
        "total = len(df[\"Age\"])\n",
        "\n",
        "x_values = np.linspace(min_age,max_age,total)\n",
        "y_values = []\n",
        "\n",
        "for x in x_values:\n",
        "  people_younger_than_x = df[df[\"Age\"] <= x]\n",
        "  num_of_people_younger_than_x = len(people_younger_than_x)\n",
        "  fraction_of_people_younger_than_x = num_of_people_younger_than_x / total\n",
        "  y_values.append(fraction_of_people_younger_than_x)\n",
        "\n",
        "# Plotting Graph\n",
        "plt.plot(x_values,y_values)\n",
        "plt.xlabel(\"Age\")\n",
        "plt.ylabel(\"Cumulative Probability\")\n",
        "plt.title(\"Cumulative Distribution Function (CDF)\")\n",
        "plt.grid(True)\n",
        "plt.show()\n",
        "\n"
      ],
      "metadata": {
        "colab": {
          "base_uri": "https://localhost:8080/",
          "height": 435
        },
        "id": "Orl-JtEiGfB3",
        "outputId": "786ff80a-07b7-4617-de0b-7f3070f45e8d"
      },
      "execution_count": null,
      "outputs": [
        {
          "output_type": "display_data",
          "data": {
            "text/plain": [
              "<Figure size 640x480 with 1 Axes>"
            ],
            "image/png": "[encoded data removed]"
          },
          "metadata": {}
        }
      ]
    },
    {
      "cell_type": "markdown",
      "source": [
        "## 2) Education"
      ],
      "metadata": {
        "id": "GYoOpJCp1yfk"
      }
    },
    {
      "cell_type": "markdown",
      "source": [
        "### Checking for Outliers"
      ],
      "metadata": {
        "id": "nPfpyn7XG7Dt"
      }
    },
    {
      "cell_type": "code",
      "source": [
        "plt.figure(figsize=(8, 5))\n",
        "sns.boxplot(x = df[\"Education\"])\n",
        "plt.title(\"Boxplot of Education\")\n",
        "plt.show()"
      ],
      "metadata": {
        "colab": {
          "base_uri": "https://localhost:8080/",
          "height": 397
        },
        "id": "pCC2E6O718c3",
        "outputId": "c2bb2e88-06d0-4425-e60e-0d328588b05a"
      },
      "execution_count": null,
      "outputs": [
        {
          "output_type": "display_data",
          "data": {
            "text/plain": [
              "<Figure size 800x500 with 1 Axes>"
            ],
            "image/png": "[encoded data removed]"
          },
          "metadata": {}
        }
      ]
    },
    {
      "cell_type": "markdown",
      "source": [
        "## Detecting Outlier values using Interquartile Range (IQR) Method"
      ],
      "metadata": {
        "id": "qhsn7u80-JoV"
      }
    },
    {
      "cell_type": "code",
      "source": [
        "Q1 = df[\"Education\"].quantile(0.25)\n",
        "Q3 = df[\"Education\"].quantile(0.75)\n",
        "IQR = Q3 - Q1\n",
        "\n",
        "# Set k = 1.5\n",
        "k = 1.5\n",
        "left_most = Q1 - k * IQR\n",
        "right_most = Q3 + k * IQR\n",
        "\n",
        "print(\"Left boundary:\", left_most)\n",
        "print(\"Right boundary:\", right_most)\n",
        "\n",
        "\n",
        "outliers = df[(df[\"Education\"] < left_most) | (df[\"Education\"] > right_most)][\"Education\"]\n",
        "\n",
        "print(\"Outlier Education:\", set(outliers.tolist()))"
      ],
      "metadata": {
        "colab": {
          "base_uri": "https://localhost:8080/"
        },
        "id": "L0Ncp7ic94-M",
        "outputId": "05953762-7cdb-4d44-a60a-2ea5682c79c8"
      },
      "execution_count": null,
      "outputs": [
        {
          "output_type": "stream",
          "name": "stdout",
          "text": [
            "Left boundary: 11.0\n",
            "Right boundary: 19.0\n",
            "Outlier Education: {20, 21}\n"
          ]
        }
      ]
    },
    {
      "cell_type": "markdown",
      "source": [
        "## Cumulative Distribution Function (CDF)"
      ],
      "metadata": {
        "id": "PDJPyYvrIa-d"
      }
    },
    {
      "cell_type": "code",
      "source": [
        "min_education = df[\"Education\"].min()\n",
        "max_education = df[\"Education\"].max()\n",
        "total = len(df[\"Education\"])\n",
        "\n",
        "x_values = np.linspace(min_education,max_education,total)\n",
        "y_values = []\n",
        "\n",
        "for x in x_values:\n",
        "  people_educated_than_x = df[df[\"Education\"] <= x]\n",
        "  num_of_people_educated_than_x = len(people_educated_than_x)\n",
        "  fraction_of_people_educated_than_x = num_of_people_educated_than_x / total\n",
        "  y_values.append(fraction_of_people_educated_than_x)\n",
        "\n",
        "# Plotting Graph\n",
        "plt.plot(x_values,y_values)\n",
        "plt.xlabel(\"Education\")\n",
        "plt.ylabel(\"Cumulative Probability\")\n",
        "plt.title(\"Cumulative Distribution Function (CDF)\")\n",
        "plt.grid(True)\n",
        "plt.show()"
      ],
      "metadata": {
        "colab": {
          "base_uri": "https://localhost:8080/",
          "height": 435
        },
        "id": "WODkmBJYIlT8",
        "outputId": "343dc9c3-f318-422b-c39f-7e54ff1a78b7"
      },
      "execution_count": null,
      "outputs": [
        {
          "output_type": "display_data",
          "data": {
            "text/plain": [
              "<Figure size 640x480 with 1 Axes>"
            ],
            "image/png": "[encoded data removed]"
          },
          "metadata": {}
        }
      ]
    },
    {
      "cell_type": "markdown",
      "source": [
        "## 3) Usage"
      ],
      "metadata": {
        "id": "QkxA1ahW2Kel"
      }
    },
    {
      "cell_type": "markdown",
      "source": [
        "### Checking for Outliers"
      ],
      "metadata": {
        "id": "L68vvcbnHEVS"
      }
    },
    {
      "cell_type": "code",
      "source": [
        "plt.figure(figsize=(8, 5))\n",
        "sns.boxplot(x = df[\"Usage\"])\n",
        "plt.title(\"Boxplot of Usage\")\n",
        "plt.show()"
      ],
      "metadata": {
        "colab": {
          "base_uri": "https://localhost:8080/",
          "height": 397
        },
        "id": "-DTF1I-f2MYs",
        "outputId": "a12a634d-34db-452b-a017-ac4067c8ad3d"
      },
      "execution_count": null,
      "outputs": [
        {
          "output_type": "display_data",
          "data": {
            "text/plain": [
              "<Figure size 800x500 with 1 Axes>"
            ],
            "image/png": "[encoded data removed]"
          },
          "metadata": {}
        }
      ]
    },
    {
      "cell_type": "markdown",
      "source": [
        "## Detecting Outlier values using Interquartile Range (IQR) Method"
      ],
      "metadata": {
        "id": "vKOzmS03-MWC"
      }
    },
    {
      "cell_type": "code",
      "source": [
        "Q1 = df[\"Usage\"].quantile(0.25)\n",
        "Q3 = df[\"Usage\"].quantile(0.75)\n",
        "IQR = Q3 - Q1\n",
        "\n",
        "# Set k = 1.5\n",
        "k = 1.5\n",
        "left_most = Q1 - k * IQR\n",
        "right_most = Q3 + k * IQR\n",
        "\n",
        "print(\"Left boundary:\", left_most)\n",
        "print(\"Right boundary:\", right_most)\n",
        "\n",
        "\n",
        "outliers = df[(df[\"Usage\"] < left_most) | (df[\"Usage\"] > right_most)][\"Usage\"]\n",
        "\n",
        "print(\"Outlier Usage:\", set(outliers.tolist()))"
      ],
      "metadata": {
        "colab": {
          "base_uri": "https://localhost:8080/"
        },
        "id": "DWSnQ_cq-OGE",
        "outputId": "f768e22d-7144-4979-da92-548bee620101"
      },
      "execution_count": null,
      "outputs": [
        {
          "output_type": "stream",
          "name": "stdout",
          "text": [
            "Left boundary: 1.5\n",
            "Right boundary: 5.5\n",
            "Outlier Usage: {6, 7}\n"
          ]
        }
      ]
    },
    {
      "cell_type": "markdown",
      "source": [
        "## Cumulative Distribution Function (CDF)"
      ],
      "metadata": {
        "id": "-SuHopAfJlgM"
      }
    },
    {
      "cell_type": "code",
      "source": [
        "min_usage = df[\"Usage\"].min()\n",
        "max_usage = df[\"Usage\"].max()\n",
        "total = len(df[\"Usage\"])\n",
        "\n",
        "x_values = np.linspace(min_usage,max_usage,total)\n",
        "y_values = []\n",
        "\n",
        "for x in x_values:\n",
        "  people_used_trademill_than_x = df[df[\"Usage\"] <= x]\n",
        "  num_of_people_used_trademill_than_x = len(people_used_trademill_than_x)\n",
        "  fraction_of_people_used_trademill_than_x = num_of_people_used_trademill_than_x / total\n",
        "  y_values.append(fraction_of_people_used_trademill_than_x)\n",
        "\n",
        "# Plotting Graph\n",
        "plt.plot(x_values,y_values)\n",
        "plt.xlabel(\"Usage\")\n",
        "plt.ylabel(\"Cumulative Probability\")\n",
        "plt.title(\"Cumulative Distribution Function (CDF)\")\n",
        "plt.grid(True)\n",
        "plt.show()"
      ],
      "metadata": {
        "colab": {
          "base_uri": "https://localhost:8080/",
          "height": 435
        },
        "id": "mdBjVk5uJmEc",
        "outputId": "5d24b916-543d-4c35-cdcc-de3a31b55bcc"
      },
      "execution_count": null,
      "outputs": [
        {
          "output_type": "display_data",
          "data": {
            "text/plain": [
              "<Figure size 640x480 with 1 Axes>"
            ],
            "image/png": "[encoded data removed]"
          },
          "metadata": {}
        }
      ]
    },
    {
      "cell_type": "markdown",
      "source": [
        "## 4) Fitness"
      ],
      "metadata": {
        "id": "3QjHjlyU2Pg-"
      }
    },
    {
      "cell_type": "markdown",
      "source": [
        "### Checking for Outliers"
      ],
      "metadata": {
        "id": "QXs0cDMHHJMM"
      }
    },
    {
      "cell_type": "code",
      "source": [
        "plt.figure(figsize=(8, 5))\n",
        "sns.boxplot(x = df[\"Fitness\"])\n",
        "plt.title(\"Boxplot of Fitness\")\n",
        "plt.show()"
      ],
      "metadata": {
        "colab": {
          "base_uri": "https://localhost:8080/",
          "height": 397
        },
        "id": "cVBvJZW_2Sxx",
        "outputId": "0d80cb20-5bc4-44dc-fab7-4dea913576a2"
      },
      "execution_count": null,
      "outputs": [
        {
          "output_type": "display_data",
          "data": {
            "text/plain": [
              "<Figure size 800x500 with 1 Axes>"
            ],
            "image/png": "[encoded data removed]"
          },
          "metadata": {}
        }
      ]
    },
    {
      "cell_type": "markdown",
      "source": [
        "## Detecting Outlier values using Interquartile Range (IQR) Method"
      ],
      "metadata": {
        "id": "6QQeb4RS_wsF"
      }
    },
    {
      "cell_type": "code",
      "source": [
        "Q1 = df[\"Fitness\"].quantile(0.25)\n",
        "Q3 = df[\"Fitness\"].quantile(0.75)\n",
        "IQR = Q3 - Q1\n",
        "\n",
        "# Set k = 1.5\n",
        "k = 1.5\n",
        "left_most = Q1 - k * IQR\n",
        "right_most = Q3 + k * IQR\n",
        "\n",
        "print(\"Left boundary:\", left_most)\n",
        "print(\"Right boundary:\", right_most)\n",
        "\n",
        "\n",
        "outliers = df[(df[\"Fitness\"] < left_most) | (df[\"Fitness\"] > right_most)][\"Fitness\"]\n",
        "\n",
        "print(\"Outlier Fitness:\", set(outliers.tolist()))"
      ],
      "metadata": {
        "colab": {
          "base_uri": "https://localhost:8080/"
        },
        "id": "B1eBTlN1_xMV",
        "outputId": "957e51c8-3e74-4ee9-fefb-5ed1f427b08f"
      },
      "execution_count": null,
      "outputs": [
        {
          "output_type": "stream",
          "name": "stdout",
          "text": [
            "Left boundary: 1.5\n",
            "Right boundary: 5.5\n",
            "Outlier Fitness: {1}\n"
          ]
        }
      ]
    },
    {
      "cell_type": "markdown",
      "source": [
        "## Cumulative Distribution Function (CDF)"
      ],
      "metadata": {
        "id": "hoksYAhlLc9p"
      }
    },
    {
      "cell_type": "code",
      "source": [
        "min_fitness = df[\"Fitness\"].min()\n",
        "max_fitness = df[\"Fitness\"].max()\n",
        "total = len(df[\"Fitness\"])\n",
        "\n",
        "x_values = np.linspace(min_fitness,max_fitness,total)\n",
        "y_values = []\n",
        "\n",
        "for x in x_values:\n",
        "  people_fitter_than_x = df[df[\"Fitness\"] <= x]\n",
        "  num_of_people_fitter_than_x = len(people_fitter_than_x)\n",
        "  fraction_of_people_fitter_than_x = num_of_people_fitter_than_x / total\n",
        "  y_values.append(fraction_of_people_fitter_than_x)\n",
        "\n",
        "# Plotting Graph\n",
        "plt.plot(x_values,y_values)\n",
        "plt.xlabel(\"Fitness\")\n",
        "plt.ylabel(\"Cumulative Probability\")\n",
        "plt.title(\"Cumulative Distribution Function (CDF)\")\n",
        "plt.grid(True)\n",
        "plt.show()"
      ],
      "metadata": {
        "colab": {
          "base_uri": "https://localhost:8080/",
          "height": 435
        },
        "id": "FC7kQx6BLgNs",
        "outputId": "77ca0741-a3fd-4884-c831-2824d73ebaed"
      },
      "execution_count": null,
      "outputs": [
        {
          "output_type": "display_data",
          "data": {
            "text/plain": [
              "<Figure size 640x480 with 1 Axes>"
            ],
            "image/png": "[encoded data removed]"
          },
          "metadata": {}
        }
      ]
    },
    {
      "cell_type": "markdown",
      "source": [
        "## 5) Income"
      ],
      "metadata": {
        "id": "nC4dg_oL2ZEb"
      }
    },
    {
      "cell_type": "markdown",
      "source": [
        "### Checking for Outliers"
      ],
      "metadata": {
        "id": "VGhjOIFSHMxf"
      }
    },
    {
      "cell_type": "code",
      "source": [
        "plt.figure(figsize=(8, 5))\n",
        "sns.boxplot(x = df[\"Income\"])\n",
        "plt.title(\"Boxplot of Income\")\n",
        "plt.show()"
      ],
      "metadata": {
        "colab": {
          "base_uri": "https://localhost:8080/",
          "height": 397
        },
        "id": "9WFegRrX2bM8",
        "outputId": "582001d1-c449-409f-f867-f871c8f87094"
      },
      "execution_count": null,
      "outputs": [
        {
          "output_type": "display_data",
          "data": {
            "text/plain": [
              "<Figure size 800x500 with 1 Axes>"
            ],
            "image/png": "[encoded data removed]"
          },
          "metadata": {}
        }
      ]
    },
    {
      "cell_type": "markdown",
      "source": [
        "## Detecting Outlier values using Interquartile Range (IQR) Method"
      ],
      "metadata": {
        "id": "nxXuXuO4_-_R"
      }
    },
    {
      "cell_type": "code",
      "source": [
        "Q1 = df[\"Income\"].quantile(0.25)\n",
        "Q3 = df[\"Income\"].quantile(0.75)\n",
        "IQR = Q3 - Q1\n",
        "\n",
        "# Set k = 1.5\n",
        "k = 1.5\n",
        "left_most = Q1 - k * IQR\n",
        "right_most = Q3 + k * IQR\n",
        "\n",
        "print(\"Left boundary:\", left_most)\n",
        "print(\"Right boundary:\", right_most)\n",
        "\n",
        "\n",
        "outliers = df[(df[\"Income\"] < left_most) | (df[\"Income\"] > right_most)][\"Income\"]\n",
        "\n",
        "print(\"Outlier Income:\", set(outliers.tolist()))"
      ],
      "metadata": {
        "colab": {
          "base_uri": "https://localhost:8080/"
        },
        "id": "Ew6tA7UZAAg5",
        "outputId": "fb842de8-59e6-4fbb-c6cc-0a952c7c0e28"
      },
      "execution_count": null,
      "outputs": [
        {
          "output_type": "stream",
          "name": "stdout",
          "text": [
            "Left boundary: 22144.875\n",
            "Right boundary: 80581.875\n",
            "Outlier Income: {92131, 104581, 90886, 103336, 89641, 88396, 99601, 85906, 95508, 83416, 95866}\n"
          ]
        }
      ]
    },
    {
      "cell_type": "markdown",
      "source": [
        "## Cumulative Distribution Function (CDF)"
      ],
      "metadata": {
        "id": "i_0K0OVNMElk"
      }
    },
    {
      "cell_type": "code",
      "source": [
        "min_income = df[\"Income\"].min()\n",
        "max_income = df[\"Income\"].max()\n",
        "total = len(df[\"Income\"])\n",
        "\n",
        "x_values = np.linspace(min_income,max_income,total)\n",
        "y_values = []\n",
        "\n",
        "for x in x_values:\n",
        "  Income_of_people_less_than_x = df[df[\"Income\"] <= x]\n",
        "  num_of_people_less_income_than_x = len(Income_of_people_less_than_x)\n",
        "  fraction_of_people_less_income_than_x = num_of_people_less_income_than_x / total\n",
        "  y_values.append(fraction_of_people_less_income_than_x)\n",
        "\n",
        "# Plotting Graph\n",
        "plt.plot(x_values,y_values)\n",
        "plt.xlabel(\"Income\")\n",
        "plt.ylabel(\"Cumulative Probability\")\n",
        "plt.title(\"Cumulative Distribution Function (CDF)\")\n",
        "plt.grid(True)\n",
        "plt.show()"
      ],
      "metadata": {
        "colab": {
          "base_uri": "https://localhost:8080/",
          "height": 435
        },
        "id": "NhtBfKtuMFTQ",
        "outputId": "5215a02b-ce59-4c71-b6cf-688b36f6f201"
      },
      "execution_count": null,
      "outputs": [
        {
          "output_type": "display_data",
          "data": {
            "text/plain": [
              "<Figure size 640x480 with 1 Axes>"
            ],
            "image/png": "[encoded data removed]"
          },
          "metadata": {}
        }
      ]
    },
    {
      "cell_type": "markdown",
      "source": [
        "## 6) Miles"
      ],
      "metadata": {
        "id": "cKfcNARO2i-3"
      }
    },
    {
      "cell_type": "markdown",
      "source": [
        "### Checking for Outliers"
      ],
      "metadata": {
        "id": "VUButdbmHPWz"
      }
    },
    {
      "cell_type": "code",
      "source": [
        "plt.figure(figsize=(8, 5))\n",
        "sns.boxplot(x = df[\"Miles\"])\n",
        "plt.title(\"Boxplot of Miles\")\n",
        "plt.show()"
      ],
      "metadata": {
        "colab": {
          "base_uri": "https://localhost:8080/",
          "height": 397
        },
        "id": "Mhwovo0U2jr3",
        "outputId": "c0bc9f20-99e5-473d-ad82-57c5405c17c2"
      },
      "execution_count": null,
      "outputs": [
        {
          "output_type": "display_data",
          "data": {
            "text/plain": [
              "<Figure size 800x500 with 1 Axes>"
            ],
            "image/png": "[encoded data removed]"
          },
          "metadata": {}
        }
      ]
    },
    {
      "cell_type": "markdown",
      "source": [
        "## Detecting Outlier values using Interquartile Range (IQR) Method"
      ],
      "metadata": {
        "id": "nVTZuu_WAOZs"
      }
    },
    {
      "cell_type": "code",
      "source": [
        "Q1 = df[\"Miles\"].quantile(0.25)\n",
        "Q3 = df[\"Miles\"].quantile(0.75)\n",
        "IQR = Q3 - Q1\n",
        "\n",
        "# Set k = 1.5\n",
        "k = 1.5\n",
        "left_most = Q1 - k * IQR\n",
        "right_most = Q3 + k * IQR\n",
        "\n",
        "print(\"Left boundary:\", left_most)\n",
        "print(\"Right boundary:\", right_most)\n",
        "\n",
        "\n",
        "outliers = df[(df[\"Miles\"] < left_most) | (df[\"Miles\"] > right_most)][\"Miles\"]\n",
        "\n",
        "print(\"Outlier Miles:\", set(outliers.tolist()))"
      ],
      "metadata": {
        "colab": {
          "base_uri": "https://localhost:8080/"
        },
        "id": "e2frtiRtAO1h",
        "outputId": "8405b174-c605-4b1a-d423-fa885a51ddfe"
      },
      "execution_count": null,
      "outputs": [
        {
          "output_type": "stream",
          "name": "stdout",
          "text": [
            "Left boundary: -7.125\n",
            "Right boundary: 187.875\n",
            "Outlier Miles: {260, 200, 360, 300, 240, 212, 280, 188}\n"
          ]
        }
      ]
    },
    {
      "cell_type": "markdown",
      "source": [
        "## Cumulative Distribution Function (CDF)"
      ],
      "metadata": {
        "id": "j9Ya7F6KM36D"
      }
    },
    {
      "cell_type": "code",
      "source": [
        "min_miles = df[\"Miles\"].min()\n",
        "max_miles = df[\"Miles\"].max()\n",
        "total = len(df[\"Miles\"])\n",
        "\n",
        "x_values = np.linspace(min_miles,max_miles,total)\n",
        "y_values = []\n",
        "\n",
        "for x in x_values:\n",
        "  people_less_miles_than_x = df[df[\"Miles\"] <= x]\n",
        "  num_of_people_less_miles_than_x = len(people_less_miles_than_x)\n",
        "  fraction_of_people_less_miles_than_x = num_of_people_less_miles_than_x / total\n",
        "  y_values.append(fraction_of_people_less_miles_than_x)\n",
        "\n",
        "# Plotting Graph\n",
        "plt.plot(x_values,y_values)\n",
        "plt.xlabel(\"Miles\")\n",
        "plt.ylabel(\"Cumulative Probability\")\n",
        "plt.title(\"Cumulative Distribution Function (CDF)\")\n",
        "plt.grid(True)\n",
        "plt.show()"
      ],
      "metadata": {
        "colab": {
          "base_uri": "https://localhost:8080/",
          "height": 435
        },
        "id": "1IjtbU9WM8Ur",
        "outputId": "690bc189-a530-4ad3-a4bb-e975db3afe6b"
      },
      "execution_count": null,
      "outputs": [
        {
          "output_type": "display_data",
          "data": {
            "text/plain": [
              "<Figure size 640x480 with 1 Axes>"
            ],
            "image/png": "[encoded data removed]"
          },
          "metadata": {}
        }
      ]
    },
    {
      "cell_type": "markdown",
      "source": [
        "## Q1: What is distribution of customer ages?"
      ],
      "metadata": {
        "id": "uM8_aiq_mJTC"
      }
    },
    {
      "cell_type": "code",
      "source": [
        "import matplotlib.pyplot as plt\n",
        "\n",
        "# Histogram of 'Age'\n",
        "plt.figure(figsize=(8, 6))\n",
        "plt.hist(df[\"Age\"], bins=20, edgecolor=\"black\")\n",
        "plt.xlabel(\"Age\")\n",
        "plt.ylabel(\"Frequency\")\n",
        "plt.title(\"Distribution of Customer Ages\")\n",
        "plt.grid(True)\n",
        "plt.show()"
      ],
      "metadata": {
        "colab": {
          "base_uri": "https://localhost:8080/",
          "height": 432
        },
        "id": "P4v1vZCzmHFM",
        "outputId": "0a6ff4af-7f88-4e4c-fe48-ab1004441d82"
      },
      "execution_count": null,
      "outputs": [
        {
          "output_type": "display_data",
          "data": {
            "text/plain": [
              "<Figure size 800x600 with 1 Axes>"
            ],
            "image/png": "[encoded data removed]"
          },
          "metadata": {}
        }
      ]
    },
    {
      "cell_type": "markdown",
      "source": [
        "## Q2: What is distribution of Gender?"
      ],
      "metadata": {
        "id": "tTinera_mUUK"
      }
    },
    {
      "cell_type": "code",
      "source": [
        "import seaborn as sns\n",
        "\n",
        "# Countplot of 'Gender'\n",
        "plt.figure(figsize=(8, 6))\n",
        "sns.countplot(data=df, x=\"Gender\")\n",
        "plt.xlabel(\"Gender\")\n",
        "plt.ylabel(\"Count\")\n",
        "plt.title(\"Distribution of Gender among Customers\")\n",
        "plt.grid(True)\n",
        "plt.show()"
      ],
      "metadata": {
        "colab": {
          "base_uri": "https://localhost:8080/",
          "height": 427
        },
        "id": "GMj1s9oImYk6",
        "outputId": "31b098a3-1486-458d-8c6d-0d80b7aa43c2"
      },
      "execution_count": null,
      "outputs": [
        {
          "output_type": "display_data",
          "data": {
            "text/plain": [
              "<Figure size 800x600 with 1 Axes>"
            ],
            "image/png": "[encoded data removed]"
          },
          "metadata": {}
        }
      ]
    },
    {
      "cell_type": "markdown",
      "source": [
        "## Q3: What is distribution of age against diffrent products?"
      ],
      "metadata": {
        "id": "QLZi-oyim3KS"
      }
    },
    {
      "cell_type": "code",
      "source": [
        "# Boxplot of 'Age' vs. 'Product Purchased'\n",
        "plt.figure(figsize=(10, 8))\n",
        "sns.boxplot(data=df, x=\"Product\", y=\"Age\")\n",
        "plt.xlabel(\"Product Purchased\")\n",
        "plt.ylabel(\"Age\")\n",
        "plt.title(\"Age Distribution by Product Purchased\")\n",
        "plt.grid(True)\n",
        "plt.show()"
      ],
      "metadata": {
        "colab": {
          "base_uri": "https://localhost:8080/",
          "height": 451
        },
        "id": "VwIqBfxUnA1u",
        "outputId": "6235484c-6f1a-4ec2-cd09-a6c335bb4252"
      },
      "execution_count": null,
      "outputs": [
        {
          "output_type": "display_data",
          "data": {
            "text/plain": [
              "<Figure size 1000x800 with 1 Axes>"
            ],
            "image/png": "[encoded data removed]"
          },
          "metadata": {}
        }
      ]
    },
    {
      "cell_type": "markdown",
      "source": [
        "## Q4: What is distribution of Income?"
      ],
      "metadata": {
        "id": "8KJmP2h6nVYJ"
      }
    },
    {
      "cell_type": "code",
      "source": [
        "plt.figure(figsize=(8, 6))\n",
        "plt.hist(df[\"Income\"], bins=30,edgecolor = \"black\")\n",
        "plt.xlabel(\"Income ($)\")\n",
        "plt.ylabel(\"Frequency\")\n",
        "plt.title(\"Distribution of Customer Income\")\n",
        "plt.grid(True)\n",
        "plt.show()"
      ],
      "metadata": {
        "colab": {
          "base_uri": "https://localhost:8080/",
          "height": 432
        },
        "id": "pWMa1tTFnqQo",
        "outputId": "5c6f671e-e70f-488a-bfeb-c4facfbd955e"
      },
      "execution_count": null,
      "outputs": [
        {
          "output_type": "display_data",
          "data": {
            "text/plain": [
              "<Figure size 800x600 with 1 Axes>"
            ],
            "image/png": "[encoded data removed]"
          },
          "metadata": {}
        }
      ]
    },
    {
      "cell_type": "markdown",
      "source": [
        "## Q5: How does the distribution of usage (times per week) differ across treadmill models?"
      ],
      "metadata": {
        "id": "W7Ju6Qr2LyFc"
      }
    },
    {
      "cell_type": "code",
      "source": [
        "# Boxplot of 'Usage' across 'Product Purchased'\n",
        "plt.figure(figsize=(10, 8))\n",
        "sns.boxplot(data=df, x=\"Product\", y=\"Usage\")\n",
        "plt.xlabel(\"Product\")\n",
        "plt.ylabel(\"Usage (times per week)\")\n",
        "plt.title(\"Distribution of Usage across Treadmill Models\")\n",
        "plt.grid(True)\n",
        "plt.show()"
      ],
      "metadata": {
        "colab": {
          "base_uri": "https://localhost:8080/",
          "height": 455
        },
        "id": "bKMVQPpMMtl5",
        "outputId": "b517c190-014f-49f5-b38d-b9521f1ca769"
      },
      "execution_count": null,
      "outputs": [
        {
          "output_type": "display_data",
          "data": {
            "text/plain": [
              "<Figure size 1000x800 with 1 Axes>"
            ],
            "image/png": "[encoded data removed]"
          },
          "metadata": {}
        }
      ]
    },
    {
      "cell_type": "markdown",
      "source": [
        "## Q6: Check corelation between diffrent columns"
      ],
      "metadata": {
        "id": "F9iXsAJHogYs"
      }
    },
    {
      "cell_type": "code",
      "source": [
        "df2 = df.select_dtypes(include=\"int64\")\n",
        "corr_matrix = df2.corr()\n",
        "plt.figure(figsize=(10, 8))\n",
        "sns.heatmap(corr_matrix, annot=True, cmap=\"coolwarm\", fmt=\"0.2f\", vmin=-1, vmax=1)\n",
        "plt.title(\"Correlation Heatmap\")\n",
        "plt.show()"
      ],
      "metadata": {
        "colab": {
          "base_uri": "https://localhost:8080/",
          "height": 469
        },
        "id": "l5VUiAv7otnK",
        "outputId": "89f9be88-7a40-49ce-997b-a5a49463f1eb"
      },
      "execution_count": null,
      "outputs": [
        {
          "output_type": "display_data",
          "data": {
            "text/plain": [
              "<Figure size 1000x800 with 2 Axes>"
            ],
            "image/png": "[encoded data removed]"
          },
          "metadata": {}
        }
      ]
    },
    {
      "cell_type": "markdown",
      "source": [
        "## Q7: What are the average age and income of customers who purchased each treadmill model?"
      ],
      "metadata": {
        "id": "sOCwvNIxLYWj"
      }
    },
    {
      "cell_type": "code",
      "source": [
        "# Group by 'Product Purchased' and calculate mean age and income\n",
        "average_stats = df.groupby('Product').agg({'Age': 'mean', 'Income': 'mean'})\n",
        "print(average_stats)"
      ],
      "metadata": {
        "colab": {
          "base_uri": "https://localhost:8080/"
        },
        "id": "eAgER4szLhS8",
        "outputId": "9db6c68d-87b2-4f8b-dfed-2a59ca89fcb9"
      },
      "execution_count": null,
      "outputs": [
        {
          "output_type": "stream",
          "name": "stdout",
          "text": [
            "           Age     Income\n",
            "Product                  \n",
            "KP281    28.55  46418.025\n",
            "KP481    28.90  48973.650\n",
            "KP781    29.10  75441.575\n"
          ]
        }
      ]
    },
    {
      "cell_type": "code",
      "source": [
        "# Count of customers by 'Product Purchased'\n",
        "product_counts = df[\"Product\"].value_counts()\n",
        "print(product_counts)\n"
      ],
      "metadata": {
        "colab": {
          "base_uri": "https://localhost:8080/"
        },
        "id": "C4cBQCSV1ICm",
        "outputId": "c2948aa9-67fb-49db-b7c3-3f68180fbfce"
      },
      "execution_count": null,
      "outputs": [
        {
          "output_type": "stream",
          "name": "stdout",
          "text": [
            "Product\n",
            "KP281    80\n",
            "KP481    60\n",
            "KP781    40\n",
            "Name: count, dtype: int64\n"
          ]
        }
      ]
    },
    {
      "cell_type": "code",
      "source": [
        "# Unique values of 'Gender' column\n",
        "unique_genders = df[\"Gender\"].unique()\n",
        "print(unique_genders)\n"
      ],
      "metadata": {
        "colab": {
          "base_uri": "https://localhost:8080/"
        },
        "id": "7AW8erq21SgW",
        "outputId": "e9fa502d-9c73-4f44-a7be-27e8b7776d6a"
      },
      "execution_count": null,
      "outputs": [
        {
          "output_type": "stream",
          "name": "stdout",
          "text": [
            "['Male' 'Female']\n"
          ]
        }
      ]
    },
    {
      "cell_type": "code",
      "source": [
        "# Count of customers by 'MaritalStatus'\n",
        "marital_counts = df[\"MaritalStatus\"].value_counts()\n",
        "print(marital_counts)\n"
      ],
      "metadata": {
        "colab": {
          "base_uri": "https://localhost:8080/"
        },
        "id": "F55f-Qcs1U8U",
        "outputId": "12b2d0bf-538c-40e0-e9ac-a221eb4ac237"
      },
      "execution_count": null,
      "outputs": [
        {
          "output_type": "stream",
          "name": "stdout",
          "text": [
            "MaritalStatus\n",
            "Partnered    107\n",
            "Single        73\n",
            "Name: count, dtype: int64\n"
          ]
        }
      ]
    },
    {
      "cell_type": "code",
      "source": [
        "# Distribution of 'Education' levels\n",
        "education_counts = df[\"Education\"].value_counts()\n",
        "print(education_counts)\n"
      ],
      "metadata": {
        "colab": {
          "base_uri": "https://localhost:8080/"
        },
        "id": "snbVjYGw1YMY",
        "outputId": "a4e2dc5d-b027-4be3-ed61-acd5245e8b4c"
      },
      "execution_count": null,
      "outputs": [
        {
          "output_type": "stream",
          "name": "stdout",
          "text": [
            "Education\n",
            "16    85\n",
            "14    55\n",
            "18    23\n",
            "15     5\n",
            "13     5\n",
            "12     3\n",
            "21     3\n",
            "20     1\n",
            "Name: count, dtype: int64\n"
          ]
        }
      ]
    },
    {
      "cell_type": "code",
      "source": [
        "# Count of customers by 'Fitness' rating\n",
        "fitness_counts = df[\"Fitness\"].value_counts()\n",
        "fitness_counts\n"
      ],
      "metadata": {
        "colab": {
          "base_uri": "https://localhost:8080/"
        },
        "id": "cRQ5z36X1bzH",
        "outputId": "c4eed965-7812-4f75-ecbe-7a7f376b8d38"
      },
      "execution_count": null,
      "outputs": [
        {
          "output_type": "execute_result",
          "data": {
            "text/plain": [
              "Fitness\n",
              "3    97\n",
              "5    31\n",
              "2    26\n",
              "4    24\n",
              "1     2\n",
              "Name: count, dtype: int64"
            ]
          },
          "metadata": {},
          "execution_count": 137
        }
      ]
    },
    {
      "cell_type": "markdown",
      "source": [
        "## Q8: Check if features like marital status have any effect on the product purchased."
      ],
      "metadata": {
        "id": "tdd8aoHbaTFj"
      }
    },
    {
      "cell_type": "code",
      "source": [
        "plt.figure(figsize=(8, 6))\n",
        "ax1 = sns.countplot(x=\"MaritalStatus\", hue=\"Product\", data=df)\n",
        "for val in ax1.containers:\n",
        "  ax1.bar_label(val)\n",
        "plt.title(\"MaritalStatus vs Product\")\n",
        "plt.xlabel(\"MaritalStatus\")\n",
        "plt.ylabel(\"Count\")\n",
        "plt.show()"
      ],
      "metadata": {
        "colab": {
          "base_uri": "https://localhost:8080/",
          "height": 564
        },
        "id": "C66R8-A8aVgz",
        "outputId": "f8d57cd7-46a5-4f7c-f2dc-5521c639f391"
      },
      "execution_count": null,
      "outputs": [
        {
          "output_type": "display_data",
          "data": {
            "text/plain": [
              "<Figure size 800x600 with 1 Axes>"
            ],
            "image/png": "[encoded data removed]"
          },
          "metadata": {}
        }
      ]
    },
    {
      "cell_type": "markdown",
      "source": [
        "## Q9: Check if features like age have any effect on the product purchased (Product KP281)"
      ],
      "metadata": {
        "id": "CcvBOb2LdZlt"
      }
    },
    {
      "cell_type": "markdown",
      "source": [
        "###1) Product KP281"
      ],
      "metadata": {
        "id": "eilhUiCiENHw"
      }
    },
    {
      "cell_type": "code",
      "source": [
        "bins =[18,22,26,30,34,38,42,46,50]\n",
        "\n",
        "age_bins =pd.cut(df[df[\"Product\"]==\"KP281\"][\"Age\"], bins)\n",
        "pd.crosstab(columns = age_bins , index = df[\"Product\"])\n"
      ],
      "metadata": {
        "colab": {
          "base_uri": "https://localhost:8080/",
          "height": 129
        },
        "id": "G-XeNOcqd3zA",
        "outputId": "883aac63-0de0-4562-8d27-70dcecbe22ad"
      },
      "execution_count": null,
      "outputs": [
        {
          "output_type": "execute_result",
          "data": {
            "text/plain": [
              "Age      (18, 22]  (22, 26]  (26, 30]  (30, 34]  (34, 38]  (38, 42]  (42, 46]  \\\n",
              "Product                                                                         \n",
              "KP281          13        27        14         8         9         3         3   \n",
              "\n",
              "Age      (46, 50]  \n",
              "Product            \n",
              "KP281           2  "
            ],
            "text/html": [
              "\n",
              "  <div id=\"df-1f21947a-e9cb-4895-9529-a2a978c24213\" class=\"colab-df-container\">\n",
              "    <div>\n",
              "<style scoped>\n",
              "    .dataframe tbody tr th:only-of-type {\n",
              "        vertical-align: middle;\n",
              "    }\n",
              "\n",
              "    .dataframe tbody tr th {\n",
              "        vertical-align: top;\n",
              "    }\n",
              "\n",
              "    .dataframe thead th {\n",
              "        text-align: right;\n",
              "    }\n",
              "</style>\n",
              "<table border=\"1\" class=\"dataframe\">\n",
              "  <thead>\n",
              "    <tr style=\"text-align: right;\">\n",
              "      <th>Age</th>\n",
              "      <th>(18, 22]</th>\n",
              "      <th>(22, 26]</th>\n",
              "      <th>(26, 30]</th>\n",
              "      <th>(30, 34]</th>\n",
              "      <th>(34, 38]</th>\n",
              "      <th>(38, 42]</th>\n",
              "      <th>(42, 46]</th>\n",
              "      <th>(46, 50]</th>\n",
              "    </tr>\n",
              "    <tr>\n",
              "      <th>Product</th>\n",
              "      <th></th>\n",
              "      <th></th>\n",
              "      <th></th>\n",
              "      <th></th>\n",
              "      <th></th>\n",
              "      <th></th>\n",
              "      <th></th>\n",
              "      <th></th>\n",
              "    </tr>\n",
              "  </thead>\n",
              "  <tbody>\n",
              "    <tr>\n",
              "      <th>KP281</th>\n",
              "      <td>13</td>\n",
              "      <td>27</td>\n",
              "      <td>14</td>\n",
              "      <td>8</td>\n",
              "      <td>9</td>\n",
              "      <td>3</td>\n",
              "      <td>3</td>\n",
              "      <td>2</td>\n",
              "    </tr>\n",
              "  </tbody>\n",
              "</table>\n",
              "</div>\n",
              "    <div class=\"colab-df-buttons\">\n",
              "\n",
              "  <div class=\"colab-df-container\">\n",
              "    <button class=\"colab-df-convert\" onclick=\"convertToInteractive('df-1f21947a-e9cb-4895-9529-a2a978c24213')\"\n",
              "            title=\"Convert this dataframe to an interactive table.\"\n",
              "            style=\"display:none;\">\n",
              "\n",
              "  <svg xmlns=\"http://www.w3.org/2000/svg\" height=\"24px\" viewBox=\"0 -960 960 960\">\n",
              "    <path d=\"M120-120v-720h720v720H120Zm60-500h600v-160H180v160Zm220 220h160v-160H400v160Zm0 220h160v-160H400v160ZM180-400h160v-160H180v160Zm440 0h160v-160H620v160ZM180-180h160v-160H180v160Zm440 0h160v-160H620v160Z\"/>\n",
              "  </svg>\n",
              "    </button>\n",
              "\n",
              "  <style>\n",
              "    .colab-df-container {\n",
              "      display:flex;\n",
              "      gap: 12px;\n",
              "    }\n",
              "\n",
              "    .colab-df-convert {\n",
              "      background-color: #E8F0FE;\n",
              "      border: none;\n",
              "      border-radius: 50%;\n",
              "      cursor: pointer;\n",
              "      display: none;\n",
              "      fill: #1967D2;\n",
              "      height: 32px;\n",
              "      padding: 0 0 0 0;\n",
              "      width: 32px;\n",
              "    }\n",
              "\n",
              "    .colab-df-convert:hover {\n",
              "      background-color: #E2EBFA;\n",
              "      box-shadow: 0px 1px 2px rgba(60, 64, 67, 0.3), 0px 1px 3px 1px rgba(60, 64, 67, 0.15);\n",
              "      fill: #174EA6;\n",
              "    }\n",
              "\n",
              "    .colab-df-buttons div {\n",
              "      margin-bottom: 4px;\n",
              "    }\n",
              "\n",
              "    [theme=dark] .colab-df-convert {\n",
              "      background-color: #3B4455;\n",
              "      fill: #D2E3FC;\n",
              "    }\n",
              "\n",
              "    [theme=dark] .colab-df-convert:hover {\n",
              "      background-color: #434B5C;\n",
              "      box-shadow: 0px 1px 3px 1px rgba(0, 0, 0, 0.15);\n",
              "      filter: drop-shadow(0px 1px 2px rgba(0, 0, 0, 0.3));\n",
              "      fill: #FFFFFF;\n",
              "    }\n",
              "  </style>\n",
              "\n",
              "    <script>\n",
              "      const buttonEl =\n",
              "        document.querySelector('#df-1f21947a-e9cb-4895-9529-a2a978c24213 button.colab-df-convert');\n",
              "      buttonEl.style.display =\n",
              "        google.colab.kernel.accessAllowed ? 'block' : 'none';\n",
              "\n",
              "      async function convertToInteractive(key) {\n",
              "        const element = document.querySelector('#df-1f21947a-e9cb-4895-9529-a2a978c24213');\n",
              "        const dataTable =\n",
              "          await google.colab.kernel.invokeFunction('convertToInteractive',\n",
              "                                                    [key], {});\n",
              "        if (!dataTable) return;\n",
              "\n",
              "        const docLinkHtml = 'Like what you see? Visit the ' +\n",
              "          '<a target=\"_blank\" href=https://colab.research.google.com/notebooks/data_table.ipynb>data table notebook</a>'\n",
              "          + ' to learn more about interactive tables.';\n",
              "        element.innerHTML = '';\n",
              "        dataTable['output_type'] = 'display_data';\n",
              "        await google.colab.output.renderOutput(dataTable, element);\n",
              "        const docLink = document.createElement('div');\n",
              "        docLink.innerHTML = docLinkHtml;\n",
              "        element.appendChild(docLink);\n",
              "      }\n",
              "    </script>\n",
              "  </div>\n",
              "\n",
              "\n",
              "    </div>\n",
              "  </div>\n"
            ],
            "application/vnd.google.colaboratory.intrinsic+json": {
              "type": "dataframe",
              "summary": "{\n  \"name\": \"pd\",\n  \"rows\": 1,\n  \"fields\": [\n    {\n      \"column\": \"Product\",\n      \"properties\": {\n        \"dtype\": \"string\",\n        \"num_unique_values\": 1,\n        \"samples\": [\n          \"KP281\"\n        ],\n        \"semantic_type\": \"\",\n        \"description\": \"\"\n      }\n    },\n    {\n      \"column\": \"(18, 22]\",\n      \"properties\": {\n        \"dtype\": \"number\",\n        \"std\": null,\n        \"min\": 13,\n        \"max\": 13,\n        \"num_unique_values\": 1,\n        \"samples\": [\n          13\n        ],\n        \"semantic_type\": \"\",\n        \"description\": \"\"\n      }\n    },\n    {\n      \"column\": \"(22, 26]\",\n      \"properties\": {\n        \"dtype\": \"number\",\n        \"std\": null,\n        \"min\": 27,\n        \"max\": 27,\n        \"num_unique_values\": 1,\n        \"samples\": [\n          27\n        ],\n        \"semantic_type\": \"\",\n        \"description\": \"\"\n      }\n    },\n    {\n      \"column\": \"(26, 30]\",\n      \"properties\": {\n        \"dtype\": \"number\",\n        \"std\": null,\n        \"min\": 14,\n        \"max\": 14,\n        \"num_unique_values\": 1,\n        \"samples\": [\n          14\n        ],\n        \"semantic_type\": \"\",\n        \"description\": \"\"\n      }\n    },\n    {\n      \"column\": \"(30, 34]\",\n      \"properties\": {\n        \"dtype\": \"number\",\n        \"std\": null,\n        \"min\": 8,\n        \"max\": 8,\n        \"num_unique_values\": 1,\n        \"samples\": [\n          8\n        ],\n        \"semantic_type\": \"\",\n        \"description\": \"\"\n      }\n    },\n    {\n      \"column\": \"(34, 38]\",\n      \"properties\": {\n        \"dtype\": \"number\",\n        \"std\": null,\n        \"min\": 9,\n        \"max\": 9,\n        \"num_unique_values\": 1,\n        \"samples\": [\n          9\n        ],\n        \"semantic_type\": \"\",\n        \"description\": \"\"\n      }\n    },\n    {\n      \"column\": \"(38, 42]\",\n      \"properties\": {\n        \"dtype\": \"number\",\n        \"std\": null,\n        \"min\": 3,\n        \"max\": 3,\n        \"num_unique_values\": 1,\n        \"samples\": [\n          3\n        ],\n        \"semantic_type\": \"\",\n        \"description\": \"\"\n      }\n    },\n    {\n      \"column\": \"(42, 46]\",\n      \"properties\": {\n        \"dtype\": \"number\",\n        \"std\": null,\n        \"min\": 3,\n        \"max\": 3,\n        \"num_unique_values\": 1,\n        \"samples\": [\n          3\n        ],\n        \"semantic_type\": \"\",\n        \"description\": \"\"\n      }\n    },\n    {\n      \"column\": \"(46, 50]\",\n      \"properties\": {\n        \"dtype\": \"number\",\n        \"std\": null,\n        \"min\": 2,\n        \"max\": 2,\n        \"num_unique_values\": 1,\n        \"samples\": [\n          2\n        ],\n        \"semantic_type\": \"\",\n        \"description\": \"\"\n      }\n    }\n  ]\n}"
            }
          },
          "metadata": {},
          "execution_count": 139
        }
      ]
    },
    {
      "cell_type": "code",
      "source": [
        "plt.figure(figsize = (8,6))\n",
        "ax1 = sns.barplot(pd.crosstab(columns = age_bins , index = df[\"Product\"]))\n",
        "for val in ax1.containers:\n",
        "  ax1.bar_label(val)\n",
        "plt.title(\"Product KP281 purchased VS Age group\")\n",
        "plt.show()"
      ],
      "metadata": {
        "colab": {
          "base_uri": "https://localhost:8080/",
          "height": 444
        },
        "id": "KVIc1jVLuZjI",
        "outputId": "6d871271-2e0c-4cc1-a5c1-f591c82142b4"
      },
      "execution_count": null,
      "outputs": [
        {
          "output_type": "display_data",
          "data": {
            "text/plain": [
              "<Figure size 800x600 with 1 Axes>"
            ],
            "image/png": "[encoded data removed]"
          },
          "metadata": {}
        }
      ]
    },
    {
      "cell_type": "markdown",
      "source": [
        "## Q10: Check if features like age have any effect on the product purchased (Product KP481)"
      ],
      "metadata": {
        "id": "yord2Py2lO-a"
      }
    },
    {
      "cell_type": "markdown",
      "source": [
        "###2) Product KP481"
      ],
      "metadata": {
        "id": "XJbE8Q_qEWpE"
      }
    },
    {
      "cell_type": "code",
      "source": [
        "bins =[18,22,26,30,34,38,42,46,50]\n",
        "\n",
        "age_bins = pd.cut(df[df[\"Product\"]==\"KP481\"][\"Age\"], bins)\n",
        "pd.crosstab(columns = age_bins,index = df[\"Product\"])"
      ],
      "metadata": {
        "colab": {
          "base_uri": "https://localhost:8080/",
          "height": 129
        },
        "id": "N0b8aT4vv_qT",
        "outputId": "1f3a84ac-3049-4b75-d5f3-842ccf844688"
      },
      "execution_count": null,
      "outputs": [
        {
          "output_type": "execute_result",
          "data": {
            "text/plain": [
              "Age      (18, 22]  (22, 26]  (26, 30]  (30, 34]  (34, 38]  (38, 42]  (42, 46]  \\\n",
              "Product                                                                         \n",
              "KP481           7        24         4        13         7         3         1   \n",
              "\n",
              "Age      (46, 50]  \n",
              "Product            \n",
              "KP481           1  "
            ],
            "text/html": [
              "\n",
              "  <div id=\"df-04d42b15-b997-4545-ac98-8dc5de191b16\" class=\"colab-df-container\">\n",
              "    <div>\n",
              "<style scoped>\n",
              "    .dataframe tbody tr th:only-of-type {\n",
              "        vertical-align: middle;\n",
              "    }\n",
              "\n",
              "    .dataframe tbody tr th {\n",
              "        vertical-align: top;\n",
              "    }\n",
              "\n",
              "    .dataframe thead th {\n",
              "        text-align: right;\n",
              "    }\n",
              "</style>\n",
              "<table border=\"1\" class=\"dataframe\">\n",
              "  <thead>\n",
              "    <tr style=\"text-align: right;\">\n",
              "      <th>Age</th>\n",
              "      <th>(18, 22]</th>\n",
              "      <th>(22, 26]</th>\n",
              "      <th>(26, 30]</th>\n",
              "      <th>(30, 34]</th>\n",
              "      <th>(34, 38]</th>\n",
              "      <th>(38, 42]</th>\n",
              "      <th>(42, 46]</th>\n",
              "      <th>(46, 50]</th>\n",
              "    </tr>\n",
              "    <tr>\n",
              "      <th>Product</th>\n",
              "      <th></th>\n",
              "      <th></th>\n",
              "      <th></th>\n",
              "      <th></th>\n",
              "      <th></th>\n",
              "      <th></th>\n",
              "      <th></th>\n",
              "      <th></th>\n",
              "    </tr>\n",
              "  </thead>\n",
              "  <tbody>\n",
              "    <tr>\n",
              "      <th>KP481</th>\n",
              "      <td>7</td>\n",
              "      <td>24</td>\n",
              "      <td>4</td>\n",
              "      <td>13</td>\n",
              "      <td>7</td>\n",
              "      <td>3</td>\n",
              "      <td>1</td>\n",
              "      <td>1</td>\n",
              "    </tr>\n",
              "  </tbody>\n",
              "</table>\n",
              "</div>\n",
              "    <div class=\"colab-df-buttons\">\n",
              "\n",
              "  <div class=\"colab-df-container\">\n",
              "    <button class=\"colab-df-convert\" onclick=\"convertToInteractive('df-04d42b15-b997-4545-ac98-8dc5de191b16')\"\n",
              "            title=\"Convert this dataframe to an interactive table.\"\n",
              "            style=\"display:none;\">\n",
              "\n",
              "  <svg xmlns=\"http://www.w3.org/2000/svg\" height=\"24px\" viewBox=\"0 -960 960 960\">\n",
              "    <path d=\"M120-120v-720h720v720H120Zm60-500h600v-160H180v160Zm220 220h160v-160H400v160Zm0 220h160v-160H400v160ZM180-400h160v-160H180v160Zm440 0h160v-160H620v160ZM180-180h160v-160H180v160Zm440 0h160v-160H620v160Z\"/>\n",
              "  </svg>\n",
              "    </button>\n",
              "\n",
              "  <style>\n",
              "    .colab-df-container {\n",
              "      display:flex;\n",
              "      gap: 12px;\n",
              "    }\n",
              "\n",
              "    .colab-df-convert {\n",
              "      background-color: #E8F0FE;\n",
              "      border: none;\n",
              "      border-radius: 50%;\n",
              "      cursor: pointer;\n",
              "      display: none;\n",
              "      fill: #1967D2;\n",
              "      height: 32px;\n",
              "      padding: 0 0 0 0;\n",
              "      width: 32px;\n",
              "    }\n",
              "\n",
              "    .colab-df-convert:hover {\n",
              "      background-color: #E2EBFA;\n",
              "      box-shadow: 0px 1px 2px rgba(60, 64, 67, 0.3), 0px 1px 3px 1px rgba(60, 64, 67, 0.15);\n",
              "      fill: #174EA6;\n",
              "    }\n",
              "\n",
              "    .colab-df-buttons div {\n",
              "      margin-bottom: 4px;\n",
              "    }\n",
              "\n",
              "    [theme=dark] .colab-df-convert {\n",
              "      background-color: #3B4455;\n",
              "      fill: #D2E3FC;\n",
              "    }\n",
              "\n",
              "    [theme=dark] .colab-df-convert:hover {\n",
              "      background-color: #434B5C;\n",
              "      box-shadow: 0px 1px 3px 1px rgba(0, 0, 0, 0.15);\n",
              "      filter: drop-shadow(0px 1px 2px rgba(0, 0, 0, 0.3));\n",
              "      fill: #FFFFFF;\n",
              "    }\n",
              "  </style>\n",
              "\n",
              "    <script>\n",
              "      const buttonEl =\n",
              "        document.querySelector('#df-04d42b15-b997-4545-ac98-8dc5de191b16 button.colab-df-convert');\n",
              "      buttonEl.style.display =\n",
              "        google.colab.kernel.accessAllowed ? 'block' : 'none';\n",
              "\n",
              "      async function convertToInteractive(key) {\n",
              "        const element = document.querySelector('#df-04d42b15-b997-4545-ac98-8dc5de191b16');\n",
              "        const dataTable =\n",
              "          await google.colab.kernel.invokeFunction('convertToInteractive',\n",
              "                                                    [key], {});\n",
              "        if (!dataTable) return;\n",
              "\n",
              "        const docLinkHtml = 'Like what you see? Visit the ' +\n",
              "          '<a target=\"_blank\" href=https://colab.research.google.com/notebooks/data_table.ipynb>data table notebook</a>'\n",
              "          + ' to learn more about interactive tables.';\n",
              "        element.innerHTML = '';\n",
              "        dataTable['output_type'] = 'display_data';\n",
              "        await google.colab.output.renderOutput(dataTable, element);\n",
              "        const docLink = document.createElement('div');\n",
              "        docLink.innerHTML = docLinkHtml;\n",
              "        element.appendChild(docLink);\n",
              "      }\n",
              "    </script>\n",
              "  </div>\n",
              "\n",
              "\n",
              "    </div>\n",
              "  </div>\n"
            ],
            "application/vnd.google.colaboratory.intrinsic+json": {
              "type": "dataframe",
              "summary": "{\n  \"name\": \"pd\",\n  \"rows\": 1,\n  \"fields\": [\n    {\n      \"column\": \"Product\",\n      \"properties\": {\n        \"dtype\": \"string\",\n        \"num_unique_values\": 1,\n        \"samples\": [\n          \"KP481\"\n        ],\n        \"semantic_type\": \"\",\n        \"description\": \"\"\n      }\n    },\n    {\n      \"column\": \"(18, 22]\",\n      \"properties\": {\n        \"dtype\": \"number\",\n        \"std\": null,\n        \"min\": 7,\n        \"max\": 7,\n        \"num_unique_values\": 1,\n        \"samples\": [\n          7\n        ],\n        \"semantic_type\": \"\",\n        \"description\": \"\"\n      }\n    },\n    {\n      \"column\": \"(22, 26]\",\n      \"properties\": {\n        \"dtype\": \"number\",\n        \"std\": null,\n        \"min\": 24,\n        \"max\": 24,\n        \"num_unique_values\": 1,\n        \"samples\": [\n          24\n        ],\n        \"semantic_type\": \"\",\n        \"description\": \"\"\n      }\n    },\n    {\n      \"column\": \"(26, 30]\",\n      \"properties\": {\n        \"dtype\": \"number\",\n        \"std\": null,\n        \"min\": 4,\n        \"max\": 4,\n        \"num_unique_values\": 1,\n        \"samples\": [\n          4\n        ],\n        \"semantic_type\": \"\",\n        \"description\": \"\"\n      }\n    },\n    {\n      \"column\": \"(30, 34]\",\n      \"properties\": {\n        \"dtype\": \"number\",\n        \"std\": null,\n        \"min\": 13,\n        \"max\": 13,\n        \"num_unique_values\": 1,\n        \"samples\": [\n          13\n        ],\n        \"semantic_type\": \"\",\n        \"description\": \"\"\n      }\n    },\n    {\n      \"column\": \"(34, 38]\",\n      \"properties\": {\n        \"dtype\": \"number\",\n        \"std\": null,\n        \"min\": 7,\n        \"max\": 7,\n        \"num_unique_values\": 1,\n        \"samples\": [\n          7\n        ],\n        \"semantic_type\": \"\",\n        \"description\": \"\"\n      }\n    },\n    {\n      \"column\": \"(38, 42]\",\n      \"properties\": {\n        \"dtype\": \"number\",\n        \"std\": null,\n        \"min\": 3,\n        \"max\": 3,\n        \"num_unique_values\": 1,\n        \"samples\": [\n          3\n        ],\n        \"semantic_type\": \"\",\n        \"description\": \"\"\n      }\n    },\n    {\n      \"column\": \"(42, 46]\",\n      \"properties\": {\n        \"dtype\": \"number\",\n        \"std\": null,\n        \"min\": 1,\n        \"max\": 1,\n        \"num_unique_values\": 1,\n        \"samples\": [\n          1\n        ],\n        \"semantic_type\": \"\",\n        \"description\": \"\"\n      }\n    },\n    {\n      \"column\": \"(46, 50]\",\n      \"properties\": {\n        \"dtype\": \"number\",\n        \"std\": null,\n        \"min\": 1,\n        \"max\": 1,\n        \"num_unique_values\": 1,\n        \"samples\": [\n          1\n        ],\n        \"semantic_type\": \"\",\n        \"description\": \"\"\n      }\n    }\n  ]\n}"
            }
          },
          "metadata": {},
          "execution_count": 141
        }
      ]
    },
    {
      "cell_type": "code",
      "source": [
        "plt.figure(figsize = (8,6))\n",
        "ax2 = sns.barplot(pd.crosstab(columns = age_bins,index = df[\"Product\"]))\n",
        "for val in ax2.containers:\n",
        "  ax2.bar_label(val)\n",
        "plt.title(\"Product KP481 purchased VS Age group\")\n",
        "plt.show()"
      ],
      "metadata": {
        "colab": {
          "base_uri": "https://localhost:8080/",
          "height": 564
        },
        "id": "W7MbGxoIwujk",
        "outputId": "2c727457-3618-4c95-b5a3-598e87bf8a10"
      },
      "execution_count": null,
      "outputs": [
        {
          "output_type": "display_data",
          "data": {
            "text/plain": [
              "<Figure size 800x600 with 1 Axes>"
            ],
            "image/png": "[encoded data removed]"
          },
          "metadata": {}
        }
      ]
    },
    {
      "cell_type": "markdown",
      "source": [
        "## Q11: Check if features like age have any effect on the product purchased (Product KP781)."
      ],
      "metadata": {
        "id": "GIV4Ihb0lXIU"
      }
    },
    {
      "cell_type": "markdown",
      "source": [
        "###3) Product KP781"
      ],
      "metadata": {
        "id": "6BuC13sbEcLt"
      }
    },
    {
      "cell_type": "code",
      "source": [
        "bins =[18,22,26,30,34,38,42,46,50]\n",
        "\n",
        "age_bins = pd.cut(df[df[\"Product\"]==\"KP781\"][\"Age\"], bins)\n",
        "pd.crosstab(columns = age_bins, index = df[\"Product\"])"
      ],
      "metadata": {
        "colab": {
          "base_uri": "https://localhost:8080/",
          "height": 112
        },
        "id": "fYuhPNEHxMUw",
        "outputId": "2e3d6a9d-43d9-44d2-a834-315e6cc405ee"
      },
      "execution_count": null,
      "outputs": [
        {
          "output_type": "execute_result",
          "data": {
            "text/plain": [
              "Age      (18, 22]  (22, 26]  (26, 30]  (30, 34]  (34, 38]  (38, 42]  (42, 46]  \\\n",
              "Product                                                                         \n",
              "KP781           3        16        11         3         2         2         1   \n",
              "\n",
              "Age      (46, 50]  \n",
              "Product            \n",
              "KP781           2  "
            ],
            "text/html": [
              "\n",
              "  <div id=\"df-65537a80-daba-48c9-95a8-8cd975aebebc\" class=\"colab-df-container\">\n",
              "    <div>\n",
              "<style scoped>\n",
              "    .dataframe tbody tr th:only-of-type {\n",
              "        vertical-align: middle;\n",
              "    }\n",
              "\n",
              "    .dataframe tbody tr th {\n",
              "        vertical-align: top;\n",
              "    }\n",
              "\n",
              "    .dataframe thead th {\n",
              "        text-align: right;\n",
              "    }\n",
              "</style>\n",
              "<table border=\"1\" class=\"dataframe\">\n",
              "  <thead>\n",
              "    <tr style=\"text-align: right;\">\n",
              "      <th>Age</th>\n",
              "      <th>(18, 22]</th>\n",
              "      <th>(22, 26]</th>\n",
              "      <th>(26, 30]</th>\n",
              "      <th>(30, 34]</th>\n",
              "      <th>(34, 38]</th>\n",
              "      <th>(38, 42]</th>\n",
              "      <th>(42, 46]</th>\n",
              "      <th>(46, 50]</th>\n",
              "    </tr>\n",
              "    <tr>\n",
              "      <th>Product</th>\n",
              "      <th></th>\n",
              "      <th></th>\n",
              "      <th></th>\n",
              "      <th></th>\n",
              "      <th></th>\n",
              "      <th></th>\n",
              "      <th></th>\n",
              "      <th></th>\n",
              "    </tr>\n",
              "  </thead>\n",
              "  <tbody>\n",
              "    <tr>\n",
              "      <th>KP781</th>\n",
              "      <td>3</td>\n",
              "      <td>16</td>\n",
              "      <td>11</td>\n",
              "      <td>3</td>\n",
              "      <td>2</td>\n",
              "      <td>2</td>\n",
              "      <td>1</td>\n",
              "      <td>2</td>\n",
              "    </tr>\n",
              "  </tbody>\n",
              "</table>\n",
              "</div>\n",
              "    <div class=\"colab-df-buttons\">\n",
              "\n",
              "  <div class=\"colab-df-container\">\n",
              "    <button class=\"colab-df-convert\" onclick=\"convertToInteractive('df-65537a80-daba-48c9-95a8-8cd975aebebc')\"\n",
              "            title=\"Convert this dataframe to an interactive table.\"\n",
              "            style=\"display:none;\">\n",
              "\n",
              "  <svg xmlns=\"http://www.w3.org/2000/svg\" height=\"24px\" viewBox=\"0 -960 960 960\">\n",
              "    <path d=\"M120-120v-720h720v720H120Zm60-500h600v-160H180v160Zm220 220h160v-160H400v160Zm0 220h160v-160H400v160ZM180-400h160v-160H180v160Zm440 0h160v-160H620v160ZM180-180h160v-160H180v160Zm440 0h160v-160H620v160Z\"/>\n",
              "  </svg>\n",
              "    </button>\n",
              "\n",
              "  <style>\n",
              "    .colab-df-container {\n",
              "      display:flex;\n",
              "      gap: 12px;\n",
              "    }\n",
              "\n",
              "    .colab-df-convert {\n",
              "      background-color: #E8F0FE;\n",
              "      border: none;\n",
              "      border-radius: 50%;\n",
              "      cursor: pointer;\n",
              "      display: none;\n",
              "      fill: #1967D2;\n",
              "      height: 32px;\n",
              "      padding: 0 0 0 0;\n",
              "      width: 32px;\n",
              "    }\n",
              "\n",
              "    .colab-df-convert:hover {\n",
              "      background-color: #E2EBFA;\n",
              "      box-shadow: 0px 1px 2px rgba(60, 64, 67, 0.3), 0px 1px 3px 1px rgba(60, 64, 67, 0.15);\n",
              "      fill: #174EA6;\n",
              "    }\n",
              "\n",
              "    .colab-df-buttons div {\n",
              "      margin-bottom: 4px;\n",
              "    }\n",
              "\n",
              "    [theme=dark] .colab-df-convert {\n",
              "      background-color: #3B4455;\n",
              "      fill: #D2E3FC;\n",
              "    }\n",
              "\n",
              "    [theme=dark] .colab-df-convert:hover {\n",
              "      background-color: #434B5C;\n",
              "      box-shadow: 0px 1px 3px 1px rgba(0, 0, 0, 0.15);\n",
              "      filter: drop-shadow(0px 1px 2px rgba(0, 0, 0, 0.3));\n",
              "      fill: #FFFFFF;\n",
              "    }\n",
              "  </style>\n",
              "\n",
              "    <script>\n",
              "      const buttonEl =\n",
              "        document.querySelector('#df-65537a80-daba-48c9-95a8-8cd975aebebc button.colab-df-convert');\n",
              "      buttonEl.style.display =\n",
              "        google.colab.kernel.accessAllowed ? 'block' : 'none';\n",
              "\n",
              "      async function convertToInteractive(key) {\n",
              "        const element = document.querySelector('#df-65537a80-daba-48c9-95a8-8cd975aebebc');\n",
              "        const dataTable =\n",
              "          await google.colab.kernel.invokeFunction('convertToInteractive',\n",
              "                                                    [key], {});\n",
              "        if (!dataTable) return;\n",
              "\n",
              "        const docLinkHtml = 'Like what you see? Visit the ' +\n",
              "          '<a target=\"_blank\" href=https://colab.research.google.com/notebooks/data_table.ipynb>data table notebook</a>'\n",
              "          + ' to learn more about interactive tables.';\n",
              "        element.innerHTML = '';\n",
              "        dataTable['output_type'] = 'display_data';\n",
              "        await google.colab.output.renderOutput(dataTable, element);\n",
              "        const docLink = document.createElement('div');\n",
              "        docLink.innerHTML = docLinkHtml;\n",
              "        element.appendChild(docLink);\n",
              "      }\n",
              "    </script>\n",
              "  </div>\n",
              "\n",
              "\n",
              "    </div>\n",
              "  </div>\n"
            ],
            "application/vnd.google.colaboratory.intrinsic+json": {
              "type": "dataframe",
              "summary": "{\n  \"name\": \"pd\",\n  \"rows\": 1,\n  \"fields\": [\n    {\n      \"column\": \"Product\",\n      \"properties\": {\n        \"dtype\": \"string\",\n        \"num_unique_values\": 1,\n        \"samples\": [\n          \"KP781\"\n        ],\n        \"semantic_type\": \"\",\n        \"description\": \"\"\n      }\n    },\n    {\n      \"column\": \"(18, 22]\",\n      \"properties\": {\n        \"dtype\": \"number\",\n        \"std\": null,\n        \"min\": 3,\n        \"max\": 3,\n        \"num_unique_values\": 1,\n        \"samples\": [\n          3\n        ],\n        \"semantic_type\": \"\",\n        \"description\": \"\"\n      }\n    },\n    {\n      \"column\": \"(22, 26]\",\n      \"properties\": {\n        \"dtype\": \"number\",\n        \"std\": null,\n        \"min\": 16,\n        \"max\": 16,\n        \"num_unique_values\": 1,\n        \"samples\": [\n          16\n        ],\n        \"semantic_type\": \"\",\n        \"description\": \"\"\n      }\n    },\n    {\n      \"column\": \"(26, 30]\",\n      \"properties\": {\n        \"dtype\": \"number\",\n        \"std\": null,\n        \"min\": 11,\n        \"max\": 11,\n        \"num_unique_values\": 1,\n        \"samples\": [\n          11\n        ],\n        \"semantic_type\": \"\",\n        \"description\": \"\"\n      }\n    },\n    {\n      \"column\": \"(30, 34]\",\n      \"properties\": {\n        \"dtype\": \"number\",\n        \"std\": null,\n        \"min\": 3,\n        \"max\": 3,\n        \"num_unique_values\": 1,\n        \"samples\": [\n          3\n        ],\n        \"semantic_type\": \"\",\n        \"description\": \"\"\n      }\n    },\n    {\n      \"column\": \"(34, 38]\",\n      \"properties\": {\n        \"dtype\": \"number\",\n        \"std\": null,\n        \"min\": 2,\n        \"max\": 2,\n        \"num_unique_values\": 1,\n        \"samples\": [\n          2\n        ],\n        \"semantic_type\": \"\",\n        \"description\": \"\"\n      }\n    },\n    {\n      \"column\": \"(38, 42]\",\n      \"properties\": {\n        \"dtype\": \"number\",\n        \"std\": null,\n        \"min\": 2,\n        \"max\": 2,\n        \"num_unique_values\": 1,\n        \"samples\": [\n          2\n        ],\n        \"semantic_type\": \"\",\n        \"description\": \"\"\n      }\n    },\n    {\n      \"column\": \"(42, 46]\",\n      \"properties\": {\n        \"dtype\": \"number\",\n        \"std\": null,\n        \"min\": 1,\n        \"max\": 1,\n        \"num_unique_values\": 1,\n        \"samples\": [\n          1\n        ],\n        \"semantic_type\": \"\",\n        \"description\": \"\"\n      }\n    },\n    {\n      \"column\": \"(46, 50]\",\n      \"properties\": {\n        \"dtype\": \"number\",\n        \"std\": null,\n        \"min\": 2,\n        \"max\": 2,\n        \"num_unique_values\": 1,\n        \"samples\": [\n          2\n        ],\n        \"semantic_type\": \"\",\n        \"description\": \"\"\n      }\n    }\n  ]\n}"
            }
          },
          "metadata": {},
          "execution_count": 143
        }
      ]
    },
    {
      "cell_type": "code",
      "source": [
        "plt.figure(figsize = (8,6))\n",
        "ax3 = sns.barplot(pd.crosstab(columns = age_bins, index = df[\"Product\"]))\n",
        "for val in ax3.containers:\n",
        "  ax3.bar_label(val)\n",
        "plt.title(\"Product KP781 purchased VS Age group\")\n",
        "plt.show()"
      ],
      "metadata": {
        "colab": {
          "base_uri": "https://localhost:8080/",
          "height": 564
        },
        "id": "yMwHyUWCxsFp",
        "outputId": "f3e7de1b-626e-441a-cd71-c6d85beb053a"
      },
      "execution_count": null,
      "outputs": [
        {
          "output_type": "display_data",
          "data": {
            "text/plain": [
              "<Figure size 800x600 with 1 Axes>"
            ],
            "image/png": "[encoded data removed]"
          },
          "metadata": {}
        }
      ]
    },
    {
      "cell_type": "markdown",
      "source": [
        "## Q12: what percent of customers have purchased product KP281, KP481, or KP781?"
      ],
      "metadata": {
        "id": "tuTY4ucyfz9E"
      }
    },
    {
      "cell_type": "code",
      "source": [
        "df[\"Product\"].value_counts()"
      ],
      "metadata": {
        "colab": {
          "base_uri": "https://localhost:8080/"
        },
        "id": "YzUJtyTMeN20",
        "outputId": "2ab657d6-c2b9-4ac8-9aa4-343c73504415"
      },
      "execution_count": null,
      "outputs": [
        {
          "output_type": "execute_result",
          "data": {
            "text/plain": [
              "Product\n",
              "KP281    80\n",
              "KP481    60\n",
              "KP781    40\n",
              "Name: count, dtype: int64"
            ]
          },
          "metadata": {},
          "execution_count": 145
        }
      ]
    },
    {
      "cell_type": "code",
      "source": [
        "df[\"Product\"].count()"
      ],
      "metadata": {
        "colab": {
          "base_uri": "https://localhost:8080/"
        },
        "id": "xjtjwmPze06H",
        "outputId": "002836d0-0ac0-4525-cdea-2fa7eda00d9d"
      },
      "execution_count": null,
      "outputs": [
        {
          "output_type": "execute_result",
          "data": {
            "text/plain": [
              "180"
            ]
          },
          "metadata": {},
          "execution_count": 146
        }
      ]
    },
    {
      "cell_type": "code",
      "source": [
        "pd.crosstab(columns = df[\"Product\"] , index = df[\"Gender\"].count())"
      ],
      "metadata": {
        "colab": {
          "base_uri": "https://localhost:8080/",
          "height": 112
        },
        "id": "QK6wYN8sdgqV",
        "outputId": "3ab581cd-98ee-4a1f-e9be-af6360cdeb3a"
      },
      "execution_count": null,
      "outputs": [
        {
          "output_type": "execute_result",
          "data": {
            "text/plain": [
              "Product  KP281  KP481  KP781\n",
              "row_0                       \n",
              "180         80     60     40"
            ],
            "text/html": [
              "\n",
              "  <div id=\"df-773da67f-4905-46e3-9ebb-07f7fa35820f\" class=\"colab-df-container\">\n",
              "    <div>\n",
              "<style scoped>\n",
              "    .dataframe tbody tr th:only-of-type {\n",
              "        vertical-align: middle;\n",
              "    }\n",
              "\n",
              "    .dataframe tbody tr th {\n",
              "        vertical-align: top;\n",
              "    }\n",
              "\n",
              "    .dataframe thead th {\n",
              "        text-align: right;\n",
              "    }\n",
              "</style>\n",
              "<table border=\"1\" class=\"dataframe\">\n",
              "  <thead>\n",
              "    <tr style=\"text-align: right;\">\n",
              "      <th>Product</th>\n",
              "      <th>KP281</th>\n",
              "      <th>KP481</th>\n",
              "      <th>KP781</th>\n",
              "    </tr>\n",
              "    <tr>\n",
              "      <th>row_0</th>\n",
              "      <th></th>\n",
              "      <th></th>\n",
              "      <th></th>\n",
              "    </tr>\n",
              "  </thead>\n",
              "  <tbody>\n",
              "    <tr>\n",
              "      <th>180</th>\n",
              "      <td>80</td>\n",
              "      <td>60</td>\n",
              "      <td>40</td>\n",
              "    </tr>\n",
              "  </tbody>\n",
              "</table>\n",
              "</div>\n",
              "    <div class=\"colab-df-buttons\">\n",
              "\n",
              "  <div class=\"colab-df-container\">\n",
              "    <button class=\"colab-df-convert\" onclick=\"convertToInteractive('df-773da67f-4905-46e3-9ebb-07f7fa35820f')\"\n",
              "            title=\"Convert this dataframe to an interactive table.\"\n",
              "            style=\"display:none;\">\n",
              "\n",
              "  <svg xmlns=\"http://www.w3.org/2000/svg\" height=\"24px\" viewBox=\"0 -960 960 960\">\n",
              "    <path d=\"M120-120v-720h720v720H120Zm60-500h600v-160H180v160Zm220 220h160v-160H400v160Zm0 220h160v-160H400v160ZM180-400h160v-160H180v160Zm440 0h160v-160H620v160ZM180-180h160v-160H180v160Zm440 0h160v-160H620v160Z\"/>\n",
              "  </svg>\n",
              "    </button>\n",
              "\n",
              "  <style>\n",
              "    .colab-df-container {\n",
              "      display:flex;\n",
              "      gap: 12px;\n",
              "    }\n",
              "\n",
              "    .colab-df-convert {\n",
              "      background-color: #E8F0FE;\n",
              "      border: none;\n",
              "      border-radius: 50%;\n",
              "      cursor: pointer;\n",
              "      display: none;\n",
              "      fill: #1967D2;\n",
              "      height: 32px;\n",
              "      padding: 0 0 0 0;\n",
              "      width: 32px;\n",
              "    }\n",
              "\n",
              "    .colab-df-convert:hover {\n",
              "      background-color: #E2EBFA;\n",
              "      box-shadow: 0px 1px 2px rgba(60, 64, 67, 0.3), 0px 1px 3px 1px rgba(60, 64, 67, 0.15);\n",
              "      fill: #174EA6;\n",
              "    }\n",
              "\n",
              "    .colab-df-buttons div {\n",
              "      margin-bottom: 4px;\n",
              "    }\n",
              "\n",
              "    [theme=dark] .colab-df-convert {\n",
              "      background-color: #3B4455;\n",
              "      fill: #D2E3FC;\n",
              "    }\n",
              "\n",
              "    [theme=dark] .colab-df-convert:hover {\n",
              "      background-color: #434B5C;\n",
              "      box-shadow: 0px 1px 3px 1px rgba(0, 0, 0, 0.15);\n",
              "      filter: drop-shadow(0px 1px 2px rgba(0, 0, 0, 0.3));\n",
              "      fill: #FFFFFF;\n",
              "    }\n",
              "  </style>\n",
              "\n",
              "    <script>\n",
              "      const buttonEl =\n",
              "        document.querySelector('#df-773da67f-4905-46e3-9ebb-07f7fa35820f button.colab-df-convert');\n",
              "      buttonEl.style.display =\n",
              "        google.colab.kernel.accessAllowed ? 'block' : 'none';\n",
              "\n",
              "      async function convertToInteractive(key) {\n",
              "        const element = document.querySelector('#df-773da67f-4905-46e3-9ebb-07f7fa35820f');\n",
              "        const dataTable =\n",
              "          await google.colab.kernel.invokeFunction('convertToInteractive',\n",
              "                                                    [key], {});\n",
              "        if (!dataTable) return;\n",
              "\n",
              "        const docLinkHtml = 'Like what you see? Visit the ' +\n",
              "          '<a target=\"_blank\" href=https://colab.research.google.com/notebooks/data_table.ipynb>data table notebook</a>'\n",
              "          + ' to learn more about interactive tables.';\n",
              "        element.innerHTML = '';\n",
              "        dataTable['output_type'] = 'display_data';\n",
              "        await google.colab.output.renderOutput(dataTable, element);\n",
              "        const docLink = document.createElement('div');\n",
              "        docLink.innerHTML = docLinkHtml;\n",
              "        element.appendChild(docLink);\n",
              "      }\n",
              "    </script>\n",
              "  </div>\n",
              "\n",
              "\n",
              "    </div>\n",
              "  </div>\n"
            ],
            "application/vnd.google.colaboratory.intrinsic+json": {
              "type": "dataframe",
              "summary": "{\n  \"name\": \"pd\",\n  \"rows\": 1,\n  \"fields\": [\n    {\n      \"column\": \"row_0\",\n      \"properties\": {\n        \"dtype\": \"number\",\n        \"std\": null,\n        \"min\": 180,\n        \"max\": 180,\n        \"num_unique_values\": 1,\n        \"samples\": [\n          180\n        ],\n        \"semantic_type\": \"\",\n        \"description\": \"\"\n      }\n    },\n    {\n      \"column\": \"KP281\",\n      \"properties\": {\n        \"dtype\": \"number\",\n        \"std\": null,\n        \"min\": 80,\n        \"max\": 80,\n        \"num_unique_values\": 1,\n        \"samples\": [\n          80\n        ],\n        \"semantic_type\": \"\",\n        \"description\": \"\"\n      }\n    },\n    {\n      \"column\": \"KP481\",\n      \"properties\": {\n        \"dtype\": \"number\",\n        \"std\": null,\n        \"min\": 60,\n        \"max\": 60,\n        \"num_unique_values\": 1,\n        \"samples\": [\n          60\n        ],\n        \"semantic_type\": \"\",\n        \"description\": \"\"\n      }\n    },\n    {\n      \"column\": \"KP781\",\n      \"properties\": {\n        \"dtype\": \"number\",\n        \"std\": null,\n        \"min\": 40,\n        \"max\": 40,\n        \"num_unique_values\": 1,\n        \"samples\": [\n          40\n        ],\n        \"semantic_type\": \"\",\n        \"description\": \"\"\n      }\n    }\n  ]\n}"
            }
          },
          "metadata": {},
          "execution_count": 147
        }
      ]
    },
    {
      "cell_type": "code",
      "source": [
        "data = {\n",
        "    \"Product\" : [\"KP281\",\"KP481\",\"KP781\"],\n",
        "    \"Purchased\" : [80,60,40]\n",
        "\n",
        "}\n",
        "\n",
        "df1 = pd.DataFrame(data)\n",
        "df1.set_index(\"Product\", inplace = True)\n",
        "\n",
        "total_customers = df1[\"Purchased\"].sum()\n",
        "\n",
        "Percentage = (df1/total_customers) * 100\n",
        "print(\"Percentage of customers for each product:\\n\",  Percentage)"
      ],
      "metadata": {
        "colab": {
          "base_uri": "https://localhost:8080/"
        },
        "id": "Ke24cxnHdgjm",
        "outputId": "b466fcb7-a946-4afd-8545-f4c6fa25fad1"
      },
      "execution_count": null,
      "outputs": [
        {
          "output_type": "stream",
          "name": "stdout",
          "text": [
            "Percentage of customers for each product:\n",
            "          Purchased\n",
            "Product           \n",
            "KP281    44.444444\n",
            "KP481    33.333333\n",
            "KP781    22.222222\n"
          ]
        }
      ]
    },
    {
      "cell_type": "markdown",
      "source": [
        "Based on the above data :\n",
        "\n",
        "- Approximately 45% of customers chose to purchase the KP281 product.\n",
        "- About 33% of customers opted for the KP481 product.\n",
        "- Roughly 22% of customers selected the KP781 product.\n"
      ],
      "metadata": {
        "id": "SvQ8H9nNiJSs"
      }
    },
    {
      "cell_type": "code",
      "source": [
        "df[\"Gender\"].value_counts()"
      ],
      "metadata": {
        "id": "jVAim21TdgZY",
        "colab": {
          "base_uri": "https://localhost:8080/"
        },
        "outputId": "a2b57e97-6a0f-4bb9-a970-48cff659ac74"
      },
      "execution_count": null,
      "outputs": [
        {
          "output_type": "execute_result",
          "data": {
            "text/plain": [
              "Gender\n",
              "Male      104\n",
              "Female     76\n",
              "Name: count, dtype: int64"
            ]
          },
          "metadata": {},
          "execution_count": 149
        }
      ]
    },
    {
      "cell_type": "code",
      "source": [
        "df[df[\"Product\"]==\"KP781\"][\"Gender\"].value_counts()"
      ],
      "metadata": {
        "id": "5nOyEmgedgWG",
        "colab": {
          "base_uri": "https://localhost:8080/"
        },
        "outputId": "779c1ed8-2d4f-4ebb-b23c-1169ebd1f432"
      },
      "execution_count": null,
      "outputs": [
        {
          "output_type": "execute_result",
          "data": {
            "text/plain": [
              "Gender\n",
              "Male      33\n",
              "Female     7\n",
              "Name: count, dtype: int64"
            ]
          },
          "metadata": {},
          "execution_count": 150
        }
      ]
    },
    {
      "cell_type": "code",
      "source": [
        "33/40 * 100"
      ],
      "metadata": {
        "id": "Q-O0nn-jdgSu",
        "colab": {
          "base_uri": "https://localhost:8080/"
        },
        "outputId": "845badc7-7f52-4f28-85a8-4463953a4091"
      },
      "execution_count": null,
      "outputs": [
        {
          "output_type": "execute_result",
          "data": {
            "text/plain": [
              "82.5"
            ]
          },
          "metadata": {},
          "execution_count": 151
        }
      ]
    },
    {
      "cell_type": "code",
      "source": [
        "pd.crosstab(columns = df[\"Product\"], index = df[\"Gender\"],margins=True)"
      ],
      "metadata": {
        "colab": {
          "base_uri": "https://localhost:8080/",
          "height": 175
        },
        "id": "9TgEftkYSXYl",
        "outputId": "903302f9-2143-494d-bf1c-c1109e8e206c"
      },
      "execution_count": null,
      "outputs": [
        {
          "output_type": "execute_result",
          "data": {
            "text/plain": [
              "Product  KP281  KP481  KP781  All\n",
              "Gender                           \n",
              "Female      40     29      7   76\n",
              "Male        40     31     33  104\n",
              "All         80     60     40  180"
            ],
            "text/html": [
              "\n",
              "  <div id=\"df-8f947528-4731-4158-a210-80f46c811718\" class=\"colab-df-container\">\n",
              "    <div>\n",
              "<style scoped>\n",
              "    .dataframe tbody tr th:only-of-type {\n",
              "        vertical-align: middle;\n",
              "    }\n",
              "\n",
              "    .dataframe tbody tr th {\n",
              "        vertical-align: top;\n",
              "    }\n",
              "\n",
              "    .dataframe thead th {\n",
              "        text-align: right;\n",
              "    }\n",
              "</style>\n",
              "<table border=\"1\" class=\"dataframe\">\n",
              "  <thead>\n",
              "    <tr style=\"text-align: right;\">\n",
              "      <th>Product</th>\n",
              "      <th>KP281</th>\n",
              "      <th>KP481</th>\n",
              "      <th>KP781</th>\n",
              "      <th>All</th>\n",
              "    </tr>\n",
              "    <tr>\n",
              "      <th>Gender</th>\n",
              "      <th></th>\n",
              "      <th></th>\n",
              "      <th></th>\n",
              "      <th></th>\n",
              "    </tr>\n",
              "  </thead>\n",
              "  <tbody>\n",
              "    <tr>\n",
              "      <th>Female</th>\n",
              "      <td>40</td>\n",
              "      <td>29</td>\n",
              "      <td>7</td>\n",
              "      <td>76</td>\n",
              "    </tr>\n",
              "    <tr>\n",
              "      <th>Male</th>\n",
              "      <td>40</td>\n",
              "      <td>31</td>\n",
              "      <td>33</td>\n",
              "      <td>104</td>\n",
              "    </tr>\n",
              "    <tr>\n",
              "      <th>All</th>\n",
              "      <td>80</td>\n",
              "      <td>60</td>\n",
              "      <td>40</td>\n",
              "      <td>180</td>\n",
              "    </tr>\n",
              "  </tbody>\n",
              "</table>\n",
              "</div>\n",
              "    <div class=\"colab-df-buttons\">\n",
              "\n",
              "  <div class=\"colab-df-container\">\n",
              "    <button class=\"colab-df-convert\" onclick=\"convertToInteractive('df-8f947528-4731-4158-a210-80f46c811718')\"\n",
              "            title=\"Convert this dataframe to an interactive table.\"\n",
              "            style=\"display:none;\">\n",
              "\n",
              "  <svg xmlns=\"http://www.w3.org/2000/svg\" height=\"24px\" viewBox=\"0 -960 960 960\">\n",
              "    <path d=\"M120-120v-720h720v720H120Zm60-500h600v-160H180v160Zm220 220h160v-160H400v160Zm0 220h160v-160H400v160ZM180-400h160v-160H180v160Zm440 0h160v-160H620v160ZM180-180h160v-160H180v160Zm440 0h160v-160H620v160Z\"/>\n",
              "  </svg>\n",
              "    </button>\n",
              "\n",
              "  <style>\n",
              "    .colab-df-container {\n",
              "      display:flex;\n",
              "      gap: 12px;\n",
              "    }\n",
              "\n",
              "    .colab-df-convert {\n",
              "      background-color: #E8F0FE;\n",
              "      border: none;\n",
              "      border-radius: 50%;\n",
              "      cursor: pointer;\n",
              "      display: none;\n",
              "      fill: #1967D2;\n",
              "      height: 32px;\n",
              "      padding: 0 0 0 0;\n",
              "      width: 32px;\n",
              "    }\n",
              "\n",
              "    .colab-df-convert:hover {\n",
              "      background-color: #E2EBFA;\n",
              "      box-shadow: 0px 1px 2px rgba(60, 64, 67, 0.3), 0px 1px 3px 1px rgba(60, 64, 67, 0.15);\n",
              "      fill: #174EA6;\n",
              "    }\n",
              "\n",
              "    .colab-df-buttons div {\n",
              "      margin-bottom: 4px;\n",
              "    }\n",
              "\n",
              "    [theme=dark] .colab-df-convert {\n",
              "      background-color: #3B4455;\n",
              "      fill: #D2E3FC;\n",
              "    }\n",
              "\n",
              "    [theme=dark] .colab-df-convert:hover {\n",
              "      background-color: #434B5C;\n",
              "      box-shadow: 0px 1px 3px 1px rgba(0, 0, 0, 0.15);\n",
              "      filter: drop-shadow(0px 1px 2px rgba(0, 0, 0, 0.3));\n",
              "      fill: #FFFFFF;\n",
              "    }\n",
              "  </style>\n",
              "\n",
              "    <script>\n",
              "      const buttonEl =\n",
              "        document.querySelector('#df-8f947528-4731-4158-a210-80f46c811718 button.colab-df-convert');\n",
              "      buttonEl.style.display =\n",
              "        google.colab.kernel.accessAllowed ? 'block' : 'none';\n",
              "\n",
              "      async function convertToInteractive(key) {\n",
              "        const element = document.querySelector('#df-8f947528-4731-4158-a210-80f46c811718');\n",
              "        const dataTable =\n",
              "          await google.colab.kernel.invokeFunction('convertToInteractive',\n",
              "                                                    [key], {});\n",
              "        if (!dataTable) return;\n",
              "\n",
              "        const docLinkHtml = 'Like what you see? Visit the ' +\n",
              "          '<a target=\"_blank\" href=https://colab.research.google.com/notebooks/data_table.ipynb>data table notebook</a>'\n",
              "          + ' to learn more about interactive tables.';\n",
              "        element.innerHTML = '';\n",
              "        dataTable['output_type'] = 'display_data';\n",
              "        await google.colab.output.renderOutput(dataTable, element);\n",
              "        const docLink = document.createElement('div');\n",
              "        docLink.innerHTML = docLinkHtml;\n",
              "        element.appendChild(docLink);\n",
              "      }\n",
              "    </script>\n",
              "  </div>\n",
              "\n",
              "\n",
              "<div id=\"df-65405f29-f478-4946-84f1-c7e563c5e4b4\">\n",
              "  <button class=\"colab-df-quickchart\" onclick=\"quickchart('df-65405f29-f478-4946-84f1-c7e563c5e4b4')\"\n",
              "            title=\"Suggest charts\"\n",
              "            style=\"display:none;\">\n",
              "\n",
              "<svg xmlns=\"http://www.w3.org/2000/svg\" height=\"24px\"viewBox=\"0 0 24 24\"\n",
              "     width=\"24px\">\n",
              "    <g>\n",
              "        <path d=\"M19 3H5c-1.1 0-2 .9-2 2v14c0 1.1.9 2 2 2h14c1.1 0 2-.9 2-2V5c0-1.1-.9-2-2-2zM9 17H7v-7h2v7zm4 0h-2V7h2v10zm4 0h-2v-4h2v4z\"/>\n",
              "    </g>\n",
              "</svg>\n",
              "  </button>\n",
              "\n",
              "<style>\n",
              "  .colab-df-quickchart {\n",
              "      --bg-color: #E8F0FE;\n",
              "      --fill-color: #1967D2;\n",
              "      --hover-bg-color: #E2EBFA;\n",
              "      --hover-fill-color: #174EA6;\n",
              "      --disabled-fill-color: #AAA;\n",
              "      --disabled-bg-color: #DDD;\n",
              "  }\n",
              "\n",
              "  [theme=dark] .colab-df-quickchart {\n",
              "      --bg-color: #3B4455;\n",
              "      --fill-color: #D2E3FC;\n",
              "      --hover-bg-color: #434B5C;\n",
              "      --hover-fill-color: #FFFFFF;\n",
              "      --disabled-bg-color: #3B4455;\n",
              "      --disabled-fill-color: #666;\n",
              "  }\n",
              "\n",
              "  .colab-df-quickchart {\n",
              "    background-color: var(--bg-color);\n",
              "    border: none;\n",
              "    border-radius: 50%;\n",
              "    cursor: pointer;\n",
              "    display: none;\n",
              "    fill: var(--fill-color);\n",
              "    height: 32px;\n",
              "    padding: 0;\n",
              "    width: 32px;\n",
              "  }\n",
              "\n",
              "  .colab-df-quickchart:hover {\n",
              "    background-color: var(--hover-bg-color);\n",
              "    box-shadow: 0 1px 2px rgba(60, 64, 67, 0.3), 0 1px 3px 1px rgba(60, 64, 67, 0.15);\n",
              "    fill: var(--button-hover-fill-color);\n",
              "  }\n",
              "\n",
              "  .colab-df-quickchart-complete:disabled,\n",
              "  .colab-df-quickchart-complete:disabled:hover {\n",
              "    background-color: var(--disabled-bg-color);\n",
              "    fill: var(--disabled-fill-color);\n",
              "    box-shadow: none;\n",
              "  }\n",
              "\n",
              "  .colab-df-spinner {\n",
              "    border: 2px solid var(--fill-color);\n",
              "    border-color: transparent;\n",
              "    border-bottom-color: var(--fill-color);\n",
              "    animation:\n",
              "      spin 1s steps(1) infinite;\n",
              "  }\n",
              "\n",
              "  @keyframes spin {\n",
              "    0% {\n",
              "      border-color: transparent;\n",
              "      border-bottom-color: var(--fill-color);\n",
              "      border-left-color: var(--fill-color);\n",
              "    }\n",
              "    20% {\n",
              "      border-color: transparent;\n",
              "      border-left-color: var(--fill-color);\n",
              "      border-top-color: var(--fill-color);\n",
              "    }\n",
              "    30% {\n",
              "      border-color: transparent;\n",
              "      border-left-color: var(--fill-color);\n",
              "      border-top-color: var(--fill-color);\n",
              "      border-right-color: var(--fill-color);\n",
              "    }\n",
              "    40% {\n",
              "      border-color: transparent;\n",
              "      border-right-color: var(--fill-color);\n",
              "      border-top-color: var(--fill-color);\n",
              "    }\n",
              "    60% {\n",
              "      border-color: transparent;\n",
              "      border-right-color: var(--fill-color);\n",
              "    }\n",
              "    80% {\n",
              "      border-color: transparent;\n",
              "      border-right-color: var(--fill-color);\n",
              "      border-bottom-color: var(--fill-color);\n",
              "    }\n",
              "    90% {\n",
              "      border-color: transparent;\n",
              "      border-bottom-color: var(--fill-color);\n",
              "    }\n",
              "  }\n",
              "</style>\n",
              "\n",
              "  <script>\n",
              "    async function quickchart(key) {\n",
              "      const quickchartButtonEl =\n",
              "        document.querySelector('#' + key + ' button');\n",
              "      quickchartButtonEl.disabled = true;  // To prevent multiple clicks.\n",
              "      quickchartButtonEl.classList.add('colab-df-spinner');\n",
              "      try {\n",
              "        const charts = await google.colab.kernel.invokeFunction(\n",
              "            'suggestCharts', [key], {});\n",
              "      } catch (error) {\n",
              "        console.error('Error during call to suggestCharts:', error);\n",
              "      }\n",
              "      quickchartButtonEl.classList.remove('colab-df-spinner');\n",
              "      quickchartButtonEl.classList.add('colab-df-quickchart-complete');\n",
              "    }\n",
              "    (() => {\n",
              "      let quickchartButtonEl =\n",
              "        document.querySelector('#df-65405f29-f478-4946-84f1-c7e563c5e4b4 button');\n",
              "      quickchartButtonEl.style.display =\n",
              "        google.colab.kernel.accessAllowed ? 'block' : 'none';\n",
              "    })();\n",
              "  </script>\n",
              "</div>\n",
              "\n",
              "    </div>\n",
              "  </div>\n"
            ],
            "application/vnd.google.colaboratory.intrinsic+json": {
              "type": "dataframe",
              "summary": "{\n  \"name\": \"pd\",\n  \"rows\": 3,\n  \"fields\": [\n    {\n      \"column\": \"Gender\",\n      \"properties\": {\n        \"dtype\": \"string\",\n        \"num_unique_values\": 3,\n        \"samples\": [\n          \"Female\",\n          \"Male\",\n          \"All\"\n        ],\n        \"semantic_type\": \"\",\n        \"description\": \"\"\n      }\n    },\n    {\n      \"column\": \"KP281\",\n      \"properties\": {\n        \"dtype\": \"number\",\n        \"std\": 23,\n        \"min\": 40,\n        \"max\": 80,\n        \"num_unique_values\": 2,\n        \"samples\": [\n          80,\n          40\n        ],\n        \"semantic_type\": \"\",\n        \"description\": \"\"\n      }\n    },\n    {\n      \"column\": \"KP481\",\n      \"properties\": {\n        \"dtype\": \"number\",\n        \"std\": 17,\n        \"min\": 29,\n        \"max\": 60,\n        \"num_unique_values\": 3,\n        \"samples\": [\n          29,\n          31\n        ],\n        \"semantic_type\": \"\",\n        \"description\": \"\"\n      }\n    },\n    {\n      \"column\": \"KP781\",\n      \"properties\": {\n        \"dtype\": \"number\",\n        \"std\": 17,\n        \"min\": 7,\n        \"max\": 40,\n        \"num_unique_values\": 3,\n        \"samples\": [\n          7,\n          33\n        ],\n        \"semantic_type\": \"\",\n        \"description\": \"\"\n      }\n    },\n    {\n      \"column\": \"All\",\n      \"properties\": {\n        \"dtype\": \"number\",\n        \"std\": 53,\n        \"min\": 76,\n        \"max\": 180,\n        \"num_unique_values\": 3,\n        \"samples\": [\n          76,\n          104\n        ],\n        \"semantic_type\": \"\",\n        \"description\": \"\"\n      }\n    }\n  ]\n}"
            }
          },
          "metadata": {},
          "execution_count": 152
        }
      ]
    },
    {
      "cell_type": "markdown",
      "source": [
        "## Q13. What is the probability of a male customer purchasing a KP281 treadmill?"
      ],
      "metadata": {
        "id": "I6IpbROyTRV4"
      }
    },
    {
      "cell_type": "code",
      "source": [
        "# Total number of male customers\n",
        "total_male_customers = df[df[\"Gender\"] == \"Male\"].shape[0]\n",
        "\n",
        "\n",
        "# Number of male customers purchasing KP781\n",
        "KP281_male_customers = df[(df[\"Gender\"] == \"Male\") & (df[\"Product\"] == \"KP281\")].shape[0]\n",
        "\n",
        "\n",
        "# Probability calculation\n",
        "probability_male_KP281 = (KP281_male_customers / total_male_customers) * 100\n",
        "print(f\"Probability of a male customer purchasing KP781: {probability_male_KP281:0.2f} %\")\n"
      ],
      "metadata": {
        "colab": {
          "base_uri": "https://localhost:8080/"
        },
        "id": "11y01YfHTRAh",
        "outputId": "e49082e7-0801-4d82-9cb8-2e5a00d9e6ef"
      },
      "execution_count": null,
      "outputs": [
        {
          "output_type": "stream",
          "name": "stdout",
          "text": [
            "Probability of a male customer purchasing KP781: 38.46 %\n"
          ]
        }
      ]
    },
    {
      "cell_type": "markdown",
      "source": [
        "## Q14: What is the probability of a female customer purchasing a KP281 treadmill?"
      ],
      "metadata": {
        "id": "yYIoR5kUU0o-"
      }
    },
    {
      "cell_type": "code",
      "source": [
        "# Total number of female customers\n",
        "total_female_customers = df[df[\"Gender\"] == \"Female\"].shape[0]\n",
        "\n",
        "\n",
        "# Number of female customers purchasing KP781\n",
        "KP281_female_customers = df[(df[\"Gender\"] == \"Female\") & (df[\"Product\"] == \"KP281\")].shape[0]\n",
        "\n",
        "\n",
        "# Probability calculation\n",
        "probability_female_KP281 = (KP281_female_customers / total_female_customers) * 100\n",
        "print(f\"Probability of a male customer purchasing KP281: {probability_female_KP281:0.2f} %\")"
      ],
      "metadata": {
        "colab": {
          "base_uri": "https://localhost:8080/"
        },
        "id": "86B0pnqqU1Dz",
        "outputId": "7984a02f-5c1b-4ae9-9de9-4138314a8a45"
      },
      "execution_count": null,
      "outputs": [
        {
          "output_type": "stream",
          "name": "stdout",
          "text": [
            "Probability of a male customer purchasing KP281: 52.63 %\n"
          ]
        }
      ]
    },
    {
      "cell_type": "markdown",
      "source": [
        "## Q15: What is the probability of a male customer purchasing a KP781 treadmill?"
      ],
      "metadata": {
        "id": "MD-m3zkCOrAN"
      }
    },
    {
      "cell_type": "code",
      "source": [
        "# Total number of male customers\n",
        "total_male_customers = df[df[\"Gender\"] == \"Male\"].shape[0]\n",
        "\n",
        "\n",
        "# Number of male customers purchasing KP781kp71\n",
        "kp781_male_customers = df[(df[\"Gender\"] == \"Male\") & (df[\"Product\"] == \"KP781\")].shape[0]\n",
        "\n",
        "\n",
        "# Probability calculation\n",
        "probability_male_kp781 = (kp781_male_customers / total_male_customers) * 100\n",
        "print(f\"Probability of a male customer purchasing KP781: {probability_male_kp781:0.2f} %\")"
      ],
      "metadata": {
        "id": "11mlKwgzdgPh",
        "colab": {
          "base_uri": "https://localhost:8080/"
        },
        "outputId": "ef811ebc-04f2-4740-e8c5-197347c4f6e5"
      },
      "execution_count": null,
      "outputs": [
        {
          "output_type": "stream",
          "name": "stdout",
          "text": [
            "Probability of a male customer purchasing KP781: 31.73 %\n"
          ]
        }
      ]
    },
    {
      "cell_type": "markdown",
      "source": [
        "## Q16: What is the probability of a female customer purchasing a KP781 treadmill?"
      ],
      "metadata": {
        "id": "ryXMPxyuR8jV"
      }
    },
    {
      "cell_type": "code",
      "source": [
        "\n",
        "# Total number of female customers\n",
        "total_female_customers = df[df[\"Gender\"] == \"Female\"].shape[0]\n",
        "\n",
        "\n",
        "# Number of female customers purchasing KP781\n",
        "kp781_female_customers = df[(df[\"Gender\"] == \"Female\") & (df[\"Product\"] == \"KP781\")].shape[0]\n",
        "\n",
        "\n",
        "# Probability calculation\n",
        "probability_female_kp781 = (kp781_female_customers / total_female_customers) * 100\n",
        "print(f\"Probability of a male customer purchasing KP781: {probability_female_kp781:0.2f} %\")"
      ],
      "metadata": {
        "colab": {
          "base_uri": "https://localhost:8080/"
        },
        "id": "SGYDiP-vR8Og",
        "outputId": "eb2d015c-e7f8-4a5d-c8a6-8d4cefe771b1"
      },
      "execution_count": null,
      "outputs": [
        {
          "output_type": "stream",
          "name": "stdout",
          "text": [
            "Probability of a male customer purchasing KP781: 9.21 %\n"
          ]
        }
      ]
    },
    {
      "cell_type": "markdown",
      "source": [
        "## Q17: What is the probability of a male customer purchasing a KP481 treadmill?"
      ],
      "metadata": {
        "id": "0cKqeQVYTPeF"
      }
    },
    {
      "cell_type": "code",
      "source": [
        "# Total number of male customers\n",
        "total_male_customers = df[df[\"Gender\"] == \"Male\"].shape[0]\n",
        "\n",
        "\n",
        "# Number of male customers purchasing KP481\n",
        "KP481_male_customers = df[(df[\"Gender\"] == \"Male\") & (df[\"Product\"] == \"KP481\")].shape[0]\n",
        "\n",
        "\n",
        "# Probability calculation\n",
        "probability_male_KP481 = (KP481_male_customers / total_male_customers) * 100\n",
        "print(f\"Probability of a male customer purchasing KP481: {probability_male_KP481:0.2f} %\")"
      ],
      "metadata": {
        "colab": {
          "base_uri": "https://localhost:8080/"
        },
        "id": "4LhK0rlIVxXf",
        "outputId": "52a4bb5a-3a0f-4ad9-beab-2691373d2814"
      },
      "execution_count": null,
      "outputs": [
        {
          "output_type": "stream",
          "name": "stdout",
          "text": [
            "Probability of a male customer purchasing KP481: 29.81 %\n"
          ]
        }
      ]
    },
    {
      "cell_type": "markdown",
      "source": [
        "## Q18: What is the probability of a female customer purchasing a KP481 treadmill?"
      ],
      "metadata": {
        "id": "Ng5tuVgmWQpq"
      }
    },
    {
      "cell_type": "code",
      "source": [
        "# Total number of female customers\n",
        "total_female_customers = df[df[\"Gender\"] == \"Female\"].shape[0]\n",
        "\n",
        "\n",
        "# Number of female customers purchasing KP481\n",
        "KP481_female_customers = df[(df[\"Gender\"] == \"Female\") & (df[\"Product\"] == \"KP481\")].shape[0]\n",
        "\n",
        "\n",
        "# Probability calculation\n",
        "probability_female_KP481 = (KP481_female_customers / total_female_customers) * 100\n",
        "print(f\"Probability of a male customer purchasing KP481: {probability_female_KP481:0.2f} %\")"
      ],
      "metadata": {
        "colab": {
          "base_uri": "https://localhost:8080/"
        },
        "id": "sPuSF-i1WT4D",
        "outputId": "2f1107d8-8d2d-4c50-a58d-ff2c690bc7c8"
      },
      "execution_count": null,
      "outputs": [
        {
          "output_type": "stream",
          "name": "stdout",
          "text": [
            "Probability of a male customer purchasing KP481: 38.16 %\n"
          ]
        }
      ]
    },
    {
      "cell_type": "markdown",
      "source": [
        "## Q19: What is the probability of a male and female customer purchasing a treadmill?"
      ],
      "metadata": {
        "id": "LZVSp4DrW8yx"
      }
    },
    {
      "cell_type": "code",
      "source": [
        "total_customers = df[\"Product\"].shape[0]\n",
        "total_male_customers = df[df[\"Gender\"]==\"Male\"][\"Product\"].shape[0]\n",
        "total_female_customers = df[df[\"Gender\"]==\"Female\"][\"Product\"].shape[0]\n",
        "\n",
        "male = (total_male_customers/total_customers) * 100\n",
        "female = (total_female_customers/total_customers) * 100\n",
        "\n",
        "print(f\"Overall percent of male customers: {male: 0.2f} %\")\n",
        "print(f\"Overall percent of female customers: {female: 0.2f} %\")"
      ],
      "metadata": {
        "colab": {
          "base_uri": "https://localhost:8080/"
        },
        "id": "MWc6_y31XSi5",
        "outputId": "0884d6f5-2d6b-4807-fa75-7ae0588a2eb6"
      },
      "execution_count": null,
      "outputs": [
        {
          "output_type": "stream",
          "name": "stdout",
          "text": [
            "Overall percent of male customers:  57.78 %\n",
            "Overall percent of female customers:  42.22 %\n"
          ]
        }
      ]
    },
    {
      "cell_type": "code",
      "source": [
        "val = [male,female]\n",
        "labels = (\"male\",\"female\")\n",
        "explode = (0.1,0)\n",
        "colors = [\"red\",\"green\"]\n",
        "plt.figure(figsize=(6,6))\n",
        "plt.pie(val, explode = explode, labels = labels,\n",
        "        colors = colors,autopct='%1.2f%%', shadow=True, startangle=150)\n",
        "plt.title(\"Male VS Female\")\n",
        "plt.show()"
      ],
      "metadata": {
        "colab": {
          "base_uri": "https://localhost:8080/",
          "height": 521
        },
        "id": "a1DIBUqdYruu",
        "outputId": "c66094e7-a733-458c-e354-80926b599e48"
      },
      "execution_count": null,
      "outputs": [
        {
          "output_type": "display_data",
          "data": {
            "text/plain": [
              "<Figure size 600x600 with 1 Axes>"
            ],
            "image/png": "[encoded data removed]"
          },
          "metadata": {}
        }
      ]
    },
    {
      "cell_type": "markdown",
      "source": [
        "## Q20: What is the conditional probability of a customer being partnered given that they purchased a KP481 treadmill?"
      ],
      "metadata": {
        "id": "RWMEWvSeNUWr"
      }
    },
    {
      "cell_type": "code",
      "source": [
        "# Total number of customers who purchased KP481\n",
        "total_kp481_customers = df[df[\"Product\"]==\"KP481\"][\"Product\"].count()\n",
        "\n",
        "# Number of partnered customers who purchased KP481\n",
        "partnered_kp481_customers = df[(df[\"Product\"]==\"KP481\") & (df[\"MaritalStatus\"]==\"Partnered\")][\"MaritalStatus\"].count()\n",
        "\n",
        "# Conditional probability calculation\n",
        "conditional_probability_partnered_given_kp481 = (partnered_kp481_customers / total_kp481_customers) * 100\n",
        "print(f\"Conditional probability of being partnered given KP481: {conditional_probability_partnered_given_kp481:0.2f} %\")"
      ],
      "metadata": {
        "id": "k2wzSkZSdf5V",
        "colab": {
          "base_uri": "https://localhost:8080/"
        },
        "outputId": "feb073d8-c21d-4f9d-bc99-1f781f5b5a2a"
      },
      "execution_count": null,
      "outputs": [
        {
          "output_type": "stream",
          "name": "stdout",
          "text": [
            "Conditional probability of being partnered given KP481: 60.00 %\n"
          ]
        }
      ]
    },
    {
      "cell_type": "markdown",
      "source": [
        "## Q21: What is the probability that a customer plans to use the treadmill more than 3 times per week given that they rate their fitness as 4 or 5?"
      ],
      "metadata": {
        "id": "jKia-kwgIITH"
      }
    },
    {
      "cell_type": "code",
      "source": [
        "# Calculate P(Usage > 3 | Fitness >= 4)\n",
        "total_high_fitness = len(df[df[\"Fitness\"] >= 4])\n",
        "high_usage_given_high_fitness = len(df[(df[\"Fitness\"] >= 4) & (df[\"Usage\"] > 3)]) / total_high_fitness\n",
        "print(f\"P(Usage > 3 | Fitness >= 4) = {high_usage_given_high_fitness}\")\n"
      ],
      "metadata": {
        "id": "0i18aHRldf2L",
        "colab": {
          "base_uri": "https://localhost:8080/"
        },
        "outputId": "31ed72b8-e841-4c25-8574-16fda49b2051"
      },
      "execution_count": null,
      "outputs": [
        {
          "output_type": "stream",
          "name": "stdout",
          "text": [
            "P(Usage > 3 | Fitness >= 4) = 0.8\n"
          ]
        }
      ]
    },
    {
      "cell_type": "markdown",
      "source": [
        "## Q22: What is the joint probability that a customer is Female and has 16 years of education?"
      ],
      "metadata": {
        "id": "r32eXis6JPAp"
      }
    },
    {
      "cell_type": "code",
      "source": [
        "# Calculate P(Gender = Female and Education = 16)\n",
        "total_customers = len(df)\n",
        "female_and_education_16 = len(df[(df[\"Gender\"] == \"Female\") & (df[\"Education\"] == 16)]) / total_customers\n",
        "print(f\"P(Gender = Female and Education = 16) = {female_and_education_16: 0.2f}\")\n"
      ],
      "metadata": {
        "colab": {
          "base_uri": "https://localhost:8080/"
        },
        "id": "v6MKMqgFI7XW",
        "outputId": "730cb1aa-39a2-4aad-d199-fc8eb101d2c3"
      },
      "execution_count": null,
      "outputs": [
        {
          "output_type": "stream",
          "name": "stdout",
          "text": [
            "P(Gender = Female and Education = 16) =  0.19\n"
          ]
        }
      ]
    },
    {
      "cell_type": "markdown",
      "source": [
        "## Q23: What is the probability that a customer expects to walk/run more than 100 miles per week given that they are aged between 20 and 30 years?"
      ],
      "metadata": {
        "id": "tkHZyh5uJmGp"
      }
    },
    {
      "cell_type": "code",
      "source": [
        "# Calculate P(Miles > 100 | 20 <= Age <= 30)\n",
        "total_age_20_30 = len(df[(df[\"Age\"] >= 20) & (df[\"Age\"] <= 30)])\n",
        "high_miles_given_age_20_30 = len(df[(df[\"Age\"] >= 20) & (df[\"Age\"] <= 30) & (df[\"Miles\"] > 100)]) / total_age_20_30\n",
        "print(f\"P(Miles > 100 | 20 <= Age <= 30) = {high_miles_given_age_20_30 : 0.2f}\")\n"
      ],
      "metadata": {
        "id": "CrZnL4d9dfsz",
        "colab": {
          "base_uri": "https://localhost:8080/"
        },
        "outputId": "95564ae7-d403-4766-9dad-75211ca900ec"
      },
      "execution_count": null,
      "outputs": [
        {
          "output_type": "stream",
          "name": "stdout",
          "text": [
            "P(Miles > 100 | 20 <= Age <= 30) =  0.42\n"
          ]
        }
      ]
    },
    {
      "cell_type": "markdown",
      "source": [
        "## Q24: What is the probability that a customer has an income greater than $40,000 given that they have 18 years of education?"
      ],
      "metadata": {
        "id": "ZtiqT7LgKwht"
      }
    },
    {
      "cell_type": "code",
      "source": [
        "# Calculate P(Income > 40000 | Education = 18)\n",
        "total_education_18 = len(df[df[\"Education\"] == 18])\n",
        "high_income_given_education_18 = len(df[(df[\"Education\"] == 18) & (df[\"Income\"] > 40000)]) / total_education_18\n",
        "print(f\"P(Income > 40000 | Education = 18) = {high_income_given_education_18}\")\n"
      ],
      "metadata": {
        "colab": {
          "base_uri": "https://localhost:8080/"
        },
        "id": "WfnYFGhnptFd",
        "outputId": "7ac99d2e-e8a1-41b6-8dcd-06c8fbfa3d55"
      },
      "execution_count": null,
      "outputs": [
        {
          "output_type": "stream",
          "name": "stdout",
          "text": [
            "P(Income > 40000 | Education = 18) = 1.0\n"
          ]
        }
      ]
    },
    {
      "cell_type": "markdown",
      "source": [
        "## Q25: What is the joint probability that a customer is Male and aged between 25 and 35 years?"
      ],
      "metadata": {
        "id": "b6N3TcNgMmxe"
      }
    },
    {
      "cell_type": "code",
      "source": [
        "# Calculate P(Gender = Male and 25 <= Age <= 35)\n",
        "total_customers = len(df)\n",
        "male_and_age_25_35 = len(df[(df[\"Gender\"] == \"Male\") & (df[\"Age\"] >= 25) & (df[\"Age\"] <= 35)]) / total_customers\n",
        "print(f\"P(Gender = Male and 25 <= Age <= 35) = {male_and_age_25_35: 0.2f}\")\n"
      ],
      "metadata": {
        "colab": {
          "base_uri": "https://localhost:8080/"
        },
        "id": "x5V2CRs-ptCk",
        "outputId": "c3742d9a-5466-4e67-a6df-e51cd27fb4c9"
      },
      "execution_count": null,
      "outputs": [
        {
          "output_type": "stream",
          "name": "stdout",
          "text": [
            "P(Gender = Male and 25 <= Age <= 35) =  0.29\n"
          ]
        }
      ]
    },
    {
      "cell_type": "markdown",
      "source": [
        "## Q26: What is the probability that a customer rates their fitness as 3 given that they use the treadmill more than 3 times per week?"
      ],
      "metadata": {
        "id": "G5iCMjerNJCc"
      }
    },
    {
      "cell_type": "code",
      "source": [
        "# Calculate P(Fitness = 3 | Usage > 3)\n",
        "total_high_usage = len(df[df[\"Usage\"] > 3])\n",
        "fitness_3_given_high_usage = len(df[(df[\"Usage\"] > 3) & (df[\"Fitness\"] == 3)]) / total_high_usage\n",
        "print(f\"P(Fitness = 3 | Usage > 3) = {fitness_3_given_high_usage : 0.2f}\")\n"
      ],
      "metadata": {
        "colab": {
          "base_uri": "https://localhost:8080/"
        },
        "id": "rBnfT9_Rps23",
        "outputId": "23e55961-d738-4689-8f50-4949d4390e0d"
      },
      "execution_count": null,
      "outputs": [
        {
          "output_type": "stream",
          "name": "stdout",
          "text": [
            "P(Fitness = 3 | Usage > 3) =  0.41\n"
          ]
        }
      ]
    },
    {
      "cell_type": "markdown",
      "source": [
        "## Q27: What is the probability that a customer has 12 years of education given that they are Single?"
      ],
      "metadata": {
        "id": "bF4oyjY0OSxF"
      }
    },
    {
      "cell_type": "code",
      "source": [
        "# Calculate P(Education = 12 | MaritalStatus = Single)\n",
        "total_single = len(df[df[\"MaritalStatus\"] == \"Single\"])\n",
        "education_12_given_single = len(df[(df[\"MaritalStatus\"] == \"Single\") & (df[\"Education\"] == 12)]) / total_single\n",
        "print(f\"P(Education = 12 | MaritalStatus = Single) = {education_12_given_single : 0.4f}\")\n"
      ],
      "metadata": {
        "colab": {
          "base_uri": "https://localhost:8080/"
        },
        "id": "hopnvdvGOKei",
        "outputId": "f6f9bfd1-833c-4506-c820-14c07af0e451"
      },
      "execution_count": null,
      "outputs": [
        {
          "output_type": "stream",
          "name": "stdout",
          "text": [
            "P(Education = 12 | MaritalStatus = Single) =  0.0274\n"
          ]
        }
      ]
    },
    {
      "cell_type": "markdown",
      "source": [
        "## Q28: What is the probability that a customer plans to use the treadmill 3 or more times per week given that their income is between 30,000 and 50,000?"
      ],
      "metadata": {
        "id": "1aShHng6PQjH"
      }
    },
    {
      "cell_type": "code",
      "source": [
        "# Calculate P(Usage >= 3 | 30000 <= Income <= 50000)\n",
        "total_income_30k_50k = len(df[(df[\"Income\"] >= 30000) & (df[\"Income\"] <= 50000)])\n",
        "high_usage_given_income_30k_50k = len(df[(df[\"Income\"] >= 30000) & (df[\"Income\"] <= 50000) & (df[\"Usage\"] >= 3)]) / total_income_30k_50k\n",
        "print(f\"P(Usage >= 3 | 30000 <= Income <= 50000) = {high_usage_given_income_30k_50k : 0.2f}\")\n"
      ],
      "metadata": {
        "colab": {
          "base_uri": "https://localhost:8080/"
        },
        "id": "k1QICeowOKYv",
        "outputId": "24b59542-2543-43c2-8374-346b58b229ee"
      },
      "execution_count": null,
      "outputs": [
        {
          "output_type": "stream",
          "name": "stdout",
          "text": [
            "P(Usage >= 3 | 30000 <= Income <= 50000) =  0.78\n"
          ]
        }
      ]
    },
    {
      "cell_type": "markdown",
      "source": [
        "## Q29: What is the probability that a customer rates their fitness as 4 or 5 given that they are Female?"
      ],
      "metadata": {
        "id": "FeXNhFxOR7Di"
      }
    },
    {
      "cell_type": "code",
      "source": [
        "# Calculate P(Fitness >= 4 | Gender = Female)\n",
        "total_female = len(df[df[\"Gender\"] == \"Female\"])\n",
        "high_fitness_given_female = len(df[(df[\"Gender\"] == \"Female\") & (df[\"Fitness\"] >= 4)]) / total_female\n",
        "print(f\"P(Fitness >= 4 | Gender = Female) = {high_fitness_given_female : 0.4f}\")\n"
      ],
      "metadata": {
        "colab": {
          "base_uri": "https://localhost:8080/"
        },
        "id": "d_NVjcxCOKV7",
        "outputId": "42bd988d-c6fc-4f8c-b49a-d946def082c0"
      },
      "execution_count": null,
      "outputs": [
        {
          "output_type": "stream",
          "name": "stdout",
          "text": [
            "P(Fitness >= 4 | Gender = Female) =  0.1842\n"
          ]
        }
      ]
    },
    {
      "cell_type": "markdown",
      "source": [
        "## Q30: What is the joint probability that a customer is Single and has an income greater than $40,000?"
      ],
      "metadata": {
        "id": "vxuIEwUNZ_ix"
      }
    },
    {
      "cell_type": "code",
      "source": [
        "# Calculate P(MaritalStatus = Single and Income > 40000)\n",
        "total_customers = len(df)\n",
        "single_and_high_income = len(df[(df[\"MaritalStatus\"] == \"Single\") & (df[\"Income\"] > 40000)]) / total_customers\n",
        "print(f\"P(MaritalStatus = Single and Income > 40000) = {single_and_high_income : 0.4f}\")\n"
      ],
      "metadata": {
        "colab": {
          "base_uri": "https://localhost:8080/"
        },
        "id": "XSVZiOppOKQZ",
        "outputId": "0f0f3533-04b3-4709-9829-b0da63e1e1c2"
      },
      "execution_count": null,
      "outputs": [
        {
          "output_type": "stream",
          "name": "stdout",
          "text": [
            "P(MaritalStatus = Single and Income > 40000) =  0.3222\n"
          ]
        }
      ]
    },
    {
      "cell_type": "markdown",
      "source": [
        "## Q31: What is the probability that a customer expects to walk/run more than 75 miles per week given that they have 14 years of education?"
      ],
      "metadata": {
        "id": "a4Lkjn-javMa"
      }
    },
    {
      "cell_type": "code",
      "source": [
        "# Calculate P(Miles > 75 | Education = 14)\n",
        "total_education_14 = len(df[df[\"Education\"] == 14])\n",
        "high_miles_given_education_14 = len(df[(df[\"Education\"] == 14) & (df[\"Miles\"] > 75)]) / total_education_14\n",
        "print(f\"P(Miles > 75 | Education = 14) = {high_miles_given_education_14 : 0.4f}\")\n"
      ],
      "metadata": {
        "colab": {
          "base_uri": "https://localhost:8080/"
        },
        "id": "ugSRUeiWOKKO",
        "outputId": "06872f87-38ab-4a47-dcc6-d7475543403f"
      },
      "execution_count": null,
      "outputs": [
        {
          "output_type": "stream",
          "name": "stdout",
          "text": [
            "P(Miles > 75 | Education = 14) =  0.5636\n"
          ]
        }
      ]
    },
    {
      "cell_type": "markdown",
      "source": [
        "## Q32: What is the probability that a customer plans to use the treadmill 3 or more times per week given that they rate their fitness as 2?"
      ],
      "metadata": {
        "id": "ZolnAtzcbt3T"
      }
    },
    {
      "cell_type": "code",
      "source": [
        "# Calculate P(Usage >= 3 | Fitness = 2)\n",
        "total_fitness_2 = len(df[df[\"Fitness\"] == 2])\n",
        "high_usage_given_fitness_2 = len(df[(df[\"Fitness\"] == 2) & (df[\"Usage\"] >= 3)]) / total_fitness_2\n",
        "print(f\"P(Usage >= 3 | Fitness = 2) = {high_usage_given_fitness_2 : 0.4f}\")\n"
      ],
      "metadata": {
        "colab": {
          "base_uri": "https://localhost:8080/"
        },
        "id": "2YiLeYAyasnq",
        "outputId": "870657ca-29af-40d5-a906-80d0448c40c7"
      },
      "execution_count": null,
      "outputs": [
        {
          "output_type": "stream",
          "name": "stdout",
          "text": [
            "P(Usage >= 3 | Fitness = 2) =  0.4615\n"
          ]
        }
      ]
    },
    {
      "cell_type": "markdown",
      "source": [
        "## Q33: What is the probability that a customer plans to use the treadmill 3 or more time per week given that they rate their fitness as 3?"
      ],
      "metadata": {
        "id": "LTYSxkq3I1vB"
      }
    },
    {
      "cell_type": "code",
      "source": [
        "# Calculate P(Usage >= 3 | Fitness = 3)\n",
        "total_fitness_3 = len(df[df[\"Fitness\"]==3])\n",
        "high_usage_given_fitness_3 =len(df[(df[\"Fitness\"] ==3) & (df[\"Usage\"] >=3)]) / total_fitness_3\n",
        "print(f\"P(Usage >= 3 | Fitness = 3) = {high_usage_given_fitness_3 : 0.4f}\")"
      ],
      "metadata": {
        "colab": {
          "base_uri": "https://localhost:8080/"
        },
        "id": "G8V8LY7_I1U0",
        "outputId": "16b8f749-f894-446a-d837-bfba239a750c"
      },
      "execution_count": null,
      "outputs": [
        {
          "output_type": "stream",
          "name": "stdout",
          "text": [
            "P(Usage >= 3 | Fitness = 3) =  0.8144\n"
          ]
        }
      ]
    },
    {
      "cell_type": "markdown",
      "source": [
        "## Q34: What is the probability that a customer is Female given that they are partnered (MaritalStatus = Partnered)?"
      ],
      "metadata": {
        "id": "B5DlkkE-cCXV"
      }
    },
    {
      "cell_type": "code",
      "source": [
        "# Calculate P(Gender = Female | MaritalStatus = Partnered)\n",
        "total_partnered = len(df[df[\"MaritalStatus\"] == \"Partnered\"])\n",
        "female_given_partnered = len(df[(df[\"MaritalStatus\"] == \"Partnered\") & (df[\"Gender\"] == \"Female\")]) / total_partnered\n",
        "print(f\"P(Gender = Female | MaritalStatus = Partnered) = {female_given_partnered : 0.4f}\")\n"
      ],
      "metadata": {
        "colab": {
          "base_uri": "https://localhost:8080/"
        },
        "id": "jB-BvMgiaskn",
        "outputId": "2b6c0ba5-7174-423c-a068-d6d78a0683ff"
      },
      "execution_count": null,
      "outputs": [
        {
          "output_type": "stream",
          "name": "stdout",
          "text": [
            "P(Gender = Female | MaritalStatus = Partnered) =  0.4299\n"
          ]
        }
      ]
    },
    {
      "cell_type": "markdown",
      "source": [
        "# Q35: Construct a table for 'Product Purchased' vs. 'Gender' and compute marginal probabilities."
      ],
      "metadata": {
        "id": "WD2ybLqk3nr9"
      }
    },
    {
      "cell_type": "code",
      "source": [
        "# Create contingency table\n",
        "table = pd.crosstab(df[\"Product\"], df[\"Gender\"], margins = True)\n",
        "\n",
        "# Compute marginal probabilities\n",
        "marginal_probabilities = table / df[\"Product\"].shape[0]\n",
        "print(\"Table:\")\n",
        "print(table)\n",
        "print(\"\\nMarginal Probabilities:\")\n",
        "print(marginal_probabilities)\n"
      ],
      "metadata": {
        "colab": {
          "base_uri": "https://localhost:8080/"
        },
        "id": "jvD5QHnR3hxL",
        "outputId": "613cf0f3-d4e4-4312-f28e-22ed25ebf4ae"
      },
      "execution_count": null,
      "outputs": [
        {
          "output_type": "stream",
          "name": "stdout",
          "text": [
            "Table:\n",
            "Gender   Female  Male  All\n",
            "Product                   \n",
            "KP281        40    40   80\n",
            "KP481        29    31   60\n",
            "KP781         7    33   40\n",
            "All          76   104  180\n",
            "\n",
            "Marginal Probabilities:\n",
            "Gender     Female      Male       All\n",
            "Product                              \n",
            "KP281    0.222222  0.222222  0.444444\n",
            "KP481    0.161111  0.172222  0.333333\n",
            "KP781    0.038889  0.183333  0.222222\n",
            "All      0.422222  0.577778  1.000000\n"
          ]
        }
      ]
    },
    {
      "cell_type": "markdown",
      "source": [
        "## Insights AND Recommendations"
      ],
      "metadata": {
        "id": "EhhYru3RO7Kk"
      }
    },
    {
      "cell_type": "markdown",
      "source": [
        "1. Age Influence on Product Choice:\n",
        "\n",
        "  *   Customers who are between age group (22-26) and (26-30) purchased KP781 and KP281 models. Focus marketing efforts on this age group, especially for promoting KP781 and KP281.\n",
        "  *   Customers who are between age group (22-26) and (30-34) purchased KP481  models. Focus marketing efforts on this age group, especially for promoting KP481.\n",
        "\n",
        "\n",
        "2. Marital Status and Product Preference:\n",
        "  *   Products KP281 and KP481 show more purchases from partnered customers, whereas KP781 has a balanced distribution.\n",
        "  *   Same with single category individuals they also have more inclined towards product like KP281 and KP481.\n",
        "  \n",
        "  *   Consider tailoring marketing messages to highlight family-friendly features for partnered customers.\n",
        "\n",
        "\n",
        "3. Gender Preferences in Product Purchase:\n",
        "  *   There's an even split in product purchases between genders across for KP281 and KP481 models.\n",
        "  *   Whreas KP781 Product has significance diffrence as there are 33 Male and only 7 Female customers purchase.\n",
        "  *   Implement gender-specific promotions or incentives to enhance customer engagement and satisfaction.\n",
        "\n",
        "4. Overall Product Popularity and Market Share:\n",
        "  *   KP281 is the most popular model, accounting for about 45% of purchases,followed by KP481 (33%) and KP781 (22%).\n",
        "\n",
        "  *   Allocate resources proportionally to maintain KP281's market dominance Have more inventory for products like KP281 and KP481\n",
        "  *   Get feedback from customers for the product KP781, and make changes accordingly and introduce the product again in the market with changes,also run some discounts,campaigns to bring customers towards KP781 product.\n",
        "\n",
        "\n",
        "5.\tEducational and Income Considerations:\n",
        "  *   Customers with higher education (e.g., 16 years) tend to be more engaged,particularly when combined with higher incomes.\n",
        "  *   Develop premium services or loyalty programs tailored to this demographic.\n",
        "\n",
        "6. Fitness and Usage Behavior:\n",
        "  *   Customers who rate their fitness as 4 or 5 are more likely to use the treadmill frequently (more than 3 times per week).\n",
        "  *   Offer specialized fitness programs or incentives for these active users to increase usage and satisfaction.\n",
        "\n",
        "\n",
        "\n",
        "\n",
        "\n",
        "\n",
        "\n",
        "\n",
        "\n"
      ],
      "metadata": {
        "id": "t342NcYZfIN6"
      }
    },
    {
      "cell_type": "markdown",
      "source": [
        "## Conclusion:\n",
        "These insights provide a comprehensive view of customer demographics, preferences, and behaviors related to treadmill purchases. By leveraging these insights, businesses can optimize their marketing strategies, product offerings, and customer retention efforts to drive growth and improve customer satisfaction."
      ],
      "metadata": {
        "id": "PbvS3BIYmwhL"
      }
    }
  ]
}